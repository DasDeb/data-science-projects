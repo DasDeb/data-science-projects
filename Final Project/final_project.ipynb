{
 "cells": [
  {
   "cell_type": "code",
   "execution_count": 2,
   "metadata": {},
   "outputs": [],
   "source": [
    "import pandas as pd\n",
    "import numpy as np\n",
    "import matplotlib.pyplot as plt\n",
    "import seaborn as sns\n",
    "import math\n",
    "import time\n",
    "import re\n",
    "import seaborn as sns\n",
    "from sklearn.model_selection import train_test_split\n",
    "from sklearn.preprocessing import StandardScaler \n",
    "from sklearn.neighbors import KNeighborsClassifier\n",
    "from sklearn import metrics\n",
    "from sklearn.tree import DecisionTreeClassifier\n",
    "from sklearn.cluster import KMeans, DBSCAN\n",
    "from sklearn.preprocessing import LabelEncoder\n",
    "from sklearn.preprocessing import OrdinalEncoder\n",
    "import datetime\n",
    "from sklearn.feature_selection import SelectKBest\n",
    "from sklearn.feature_selection import chi2"
   ]
  },
  {
   "cell_type": "code",
   "execution_count": 3,
   "metadata": {},
   "outputs": [
    {
     "data": {
      "text/html": [
       "<div>\n",
       "<style scoped>\n",
       "    .dataframe tbody tr th:only-of-type {\n",
       "        vertical-align: middle;\n",
       "    }\n",
       "\n",
       "    .dataframe tbody tr th {\n",
       "        vertical-align: top;\n",
       "    }\n",
       "\n",
       "    .dataframe thead th {\n",
       "        text-align: right;\n",
       "    }\n",
       "</style>\n",
       "<table border=\"1\" class=\"dataframe\">\n",
       "  <thead>\n",
       "    <tr style=\"text-align: right;\">\n",
       "      <th></th>\n",
       "      <th>RD_NO</th>\n",
       "      <th>CRASH_DATE_EST_I</th>\n",
       "      <th>CRASH_DATE</th>\n",
       "      <th>POSTED_SPEED_LIMIT</th>\n",
       "      <th>TRAFFIC_CONTROL_DEVICE</th>\n",
       "      <th>DEVICE_CONDITION</th>\n",
       "      <th>WEATHER_CONDITION</th>\n",
       "      <th>LIGHTING_CONDITION</th>\n",
       "      <th>FIRST_CRASH_TYPE</th>\n",
       "      <th>TRAFFICWAY_TYPE</th>\n",
       "      <th>...</th>\n",
       "      <th>INJURIES_NON_INCAPACITATING</th>\n",
       "      <th>INJURIES_REPORTED_NOT_EVIDENT</th>\n",
       "      <th>INJURIES_NO_INDICATION</th>\n",
       "      <th>INJURIES_UNKNOWN</th>\n",
       "      <th>CRASH_HOUR</th>\n",
       "      <th>CRASH_DAY_OF_WEEK</th>\n",
       "      <th>CRASH_MONTH</th>\n",
       "      <th>LATITUDE</th>\n",
       "      <th>LONGITUDE</th>\n",
       "      <th>LOCATION</th>\n",
       "    </tr>\n",
       "  </thead>\n",
       "  <tbody>\n",
       "    <tr>\n",
       "      <th>0</th>\n",
       "      <td>JC334993</td>\n",
       "      <td>NaN</td>\n",
       "      <td>07/04/2019 10:33:00 PM</td>\n",
       "      <td>45</td>\n",
       "      <td>NO CONTROLS</td>\n",
       "      <td>NO CONTROLS</td>\n",
       "      <td>CLEAR</td>\n",
       "      <td>DARKNESS, LIGHTED ROAD</td>\n",
       "      <td>REAR END</td>\n",
       "      <td>DIVIDED - W/MEDIAN BARRIER</td>\n",
       "      <td>...</td>\n",
       "      <td>NaN</td>\n",
       "      <td>NaN</td>\n",
       "      <td>NaN</td>\n",
       "      <td>NaN</td>\n",
       "      <td>22</td>\n",
       "      <td>5</td>\n",
       "      <td>7</td>\n",
       "      <td>41.886140</td>\n",
       "      <td>-87.614274</td>\n",
       "      <td>POINT (-87.614274106164 41.8861404879)</td>\n",
       "    </tr>\n",
       "    <tr>\n",
       "      <th>1</th>\n",
       "      <td>JC370822</td>\n",
       "      <td>NaN</td>\n",
       "      <td>07/30/2019 10:22:00 AM</td>\n",
       "      <td>30</td>\n",
       "      <td>NO CONTROLS</td>\n",
       "      <td>NO CONTROLS</td>\n",
       "      <td>CLEAR</td>\n",
       "      <td>DAYLIGHT</td>\n",
       "      <td>TURNING</td>\n",
       "      <td>DIVIDED - W/MEDIAN (NOT RAISED)</td>\n",
       "      <td>...</td>\n",
       "      <td>NaN</td>\n",
       "      <td>NaN</td>\n",
       "      <td>NaN</td>\n",
       "      <td>NaN</td>\n",
       "      <td>10</td>\n",
       "      <td>3</td>\n",
       "      <td>7</td>\n",
       "      <td>41.745549</td>\n",
       "      <td>-87.614670</td>\n",
       "      <td>POINT (-87.614669906271 41.745549113377)</td>\n",
       "    </tr>\n",
       "    <tr>\n",
       "      <th>2</th>\n",
       "      <td>JC387098</td>\n",
       "      <td>NaN</td>\n",
       "      <td>08/10/2019 05:00:00 PM</td>\n",
       "      <td>25</td>\n",
       "      <td>NO CONTROLS</td>\n",
       "      <td>NO CONTROLS</td>\n",
       "      <td>CLEAR</td>\n",
       "      <td>DAYLIGHT</td>\n",
       "      <td>PARKED MOTOR VEHICLE</td>\n",
       "      <td>ONE-WAY</td>\n",
       "      <td>...</td>\n",
       "      <td>NaN</td>\n",
       "      <td>NaN</td>\n",
       "      <td>NaN</td>\n",
       "      <td>NaN</td>\n",
       "      <td>17</td>\n",
       "      <td>7</td>\n",
       "      <td>8</td>\n",
       "      <td>41.772004</td>\n",
       "      <td>-87.581234</td>\n",
       "      <td>POINT (-87.58123401629 41.772004323752)</td>\n",
       "    </tr>\n",
       "    <tr>\n",
       "      <th>3</th>\n",
       "      <td>JC395195</td>\n",
       "      <td>NaN</td>\n",
       "      <td>08/16/2019 04:53:00 PM</td>\n",
       "      <td>30</td>\n",
       "      <td>NO CONTROLS</td>\n",
       "      <td>NO CONTROLS</td>\n",
       "      <td>CLEAR</td>\n",
       "      <td>DAYLIGHT</td>\n",
       "      <td>PARKED MOTOR VEHICLE</td>\n",
       "      <td>NOT DIVIDED</td>\n",
       "      <td>...</td>\n",
       "      <td>0.0</td>\n",
       "      <td>0.0</td>\n",
       "      <td>1.0</td>\n",
       "      <td>0.0</td>\n",
       "      <td>16</td>\n",
       "      <td>6</td>\n",
       "      <td>8</td>\n",
       "      <td>41.892327</td>\n",
       "      <td>-87.635742</td>\n",
       "      <td>POINT (-87.635741843096 41.89232650689)</td>\n",
       "    </tr>\n",
       "    <tr>\n",
       "      <th>4</th>\n",
       "      <td>JC396604</td>\n",
       "      <td>NaN</td>\n",
       "      <td>08/17/2019 04:04:00 PM</td>\n",
       "      <td>30</td>\n",
       "      <td>NO CONTROLS</td>\n",
       "      <td>NO CONTROLS</td>\n",
       "      <td>CLEAR</td>\n",
       "      <td>DAYLIGHT</td>\n",
       "      <td>PARKED MOTOR VEHICLE</td>\n",
       "      <td>PARKING LOT</td>\n",
       "      <td>...</td>\n",
       "      <td>0.0</td>\n",
       "      <td>0.0</td>\n",
       "      <td>1.0</td>\n",
       "      <td>0.0</td>\n",
       "      <td>16</td>\n",
       "      <td>7</td>\n",
       "      <td>8</td>\n",
       "      <td>41.948637</td>\n",
       "      <td>-87.688458</td>\n",
       "      <td>POINT (-87.688457506457 41.948636883802)</td>\n",
       "    </tr>\n",
       "  </tbody>\n",
       "</table>\n",
       "<p>5 rows × 48 columns</p>\n",
       "</div>"
      ],
      "text/plain": [
       "      RD_NO CRASH_DATE_EST_I              CRASH_DATE  POSTED_SPEED_LIMIT  \\\n",
       "0  JC334993              NaN  07/04/2019 10:33:00 PM                  45   \n",
       "1  JC370822              NaN  07/30/2019 10:22:00 AM                  30   \n",
       "2  JC387098              NaN  08/10/2019 05:00:00 PM                  25   \n",
       "3  JC395195              NaN  08/16/2019 04:53:00 PM                  30   \n",
       "4  JC396604              NaN  08/17/2019 04:04:00 PM                  30   \n",
       "\n",
       "  TRAFFIC_CONTROL_DEVICE DEVICE_CONDITION WEATHER_CONDITION  \\\n",
       "0            NO CONTROLS      NO CONTROLS             CLEAR   \n",
       "1            NO CONTROLS      NO CONTROLS             CLEAR   \n",
       "2            NO CONTROLS      NO CONTROLS             CLEAR   \n",
       "3            NO CONTROLS      NO CONTROLS             CLEAR   \n",
       "4            NO CONTROLS      NO CONTROLS             CLEAR   \n",
       "\n",
       "       LIGHTING_CONDITION      FIRST_CRASH_TYPE  \\\n",
       "0  DARKNESS, LIGHTED ROAD              REAR END   \n",
       "1                DAYLIGHT               TURNING   \n",
       "2                DAYLIGHT  PARKED MOTOR VEHICLE   \n",
       "3                DAYLIGHT  PARKED MOTOR VEHICLE   \n",
       "4                DAYLIGHT  PARKED MOTOR VEHICLE   \n",
       "\n",
       "                   TRAFFICWAY_TYPE  ...  INJURIES_NON_INCAPACITATING  \\\n",
       "0       DIVIDED - W/MEDIAN BARRIER  ...                          NaN   \n",
       "1  DIVIDED - W/MEDIAN (NOT RAISED)  ...                          NaN   \n",
       "2                          ONE-WAY  ...                          NaN   \n",
       "3                      NOT DIVIDED  ...                          0.0   \n",
       "4                      PARKING LOT  ...                          0.0   \n",
       "\n",
       "  INJURIES_REPORTED_NOT_EVIDENT INJURIES_NO_INDICATION INJURIES_UNKNOWN  \\\n",
       "0                           NaN                    NaN              NaN   \n",
       "1                           NaN                    NaN              NaN   \n",
       "2                           NaN                    NaN              NaN   \n",
       "3                           0.0                    1.0              0.0   \n",
       "4                           0.0                    1.0              0.0   \n",
       "\n",
       "  CRASH_HOUR CRASH_DAY_OF_WEEK CRASH_MONTH   LATITUDE  LONGITUDE  \\\n",
       "0         22                 5           7  41.886140 -87.614274   \n",
       "1         10                 3           7  41.745549 -87.614670   \n",
       "2         17                 7           8  41.772004 -87.581234   \n",
       "3         16                 6           8  41.892327 -87.635742   \n",
       "4         16                 7           8  41.948637 -87.688458   \n",
       "\n",
       "                                   LOCATION  \n",
       "0    POINT (-87.614274106164 41.8861404879)  \n",
       "1  POINT (-87.614669906271 41.745549113377)  \n",
       "2   POINT (-87.58123401629 41.772004323752)  \n",
       "3   POINT (-87.635741843096 41.89232650689)  \n",
       "4  POINT (-87.688457506457 41.948636883802)  \n",
       "\n",
       "[5 rows x 48 columns]"
      ]
     },
     "execution_count": 3,
     "metadata": {},
     "output_type": "execute_result"
    }
   ],
   "source": [
    "data = pd.read_csv(\"Traffic_Crashes_-_Crashes.csv\")\n",
    "data.head()"
   ]
  },
  {
   "cell_type": "code",
   "execution_count": 4,
   "metadata": {},
   "outputs": [],
   "source": [
    "df = data"
   ]
  },
  {
   "cell_type": "code",
   "execution_count": 5,
   "metadata": {},
   "outputs": [
    {
     "data": {
      "text/plain": [
       "(363249, 48)"
      ]
     },
     "execution_count": 5,
     "metadata": {},
     "output_type": "execute_result"
    }
   ],
   "source": [
    "df.shape"
   ]
  },
  {
   "cell_type": "code",
   "execution_count": 6,
   "metadata": {},
   "outputs": [],
   "source": [
    "df.drop(columns=['RD_NO','CRASH_DATE_EST_I','TRAFFIC_CONTROL_DEVICE','DEVICE_CONDITION','LANE_CNT',\n",
    "                 'REPORT_TYPE','INTERSECTION_RELATED_I','NOT_RIGHT_OF_WAY_I', 'HIT_AND_RUN_I',\n",
    "                 'DATE_POLICE_NOTIFIED', 'STREET_NO', 'STREET_DIRECTION','STREET_NAME', 'BEAT_OF_OCCURRENCE',\n",
    "                 'PHOTOS_TAKEN_I','STATEMENTS_TAKEN_I','DOORING_I', 'WORK_ZONE_I' ,\n",
    "                 'WORK_ZONE_TYPE', 'WORKERS_PRESENT_I', 'NUM_UNITS', 'MOST_SEVERE_INJURY', 'INJURIES_TOTAL',\n",
    "                 'INJURIES_FATAL', 'INJURIES_INCAPACITATING', 'INJURIES_NON_INCAPACITATING', 'INJURIES_REPORTED_NOT_EVIDENT',\n",
    "                 'INJURIES_NO_INDICATION', 'INJURIES_UNKNOWN', 'LOCATION'\n",
    "                ], inplace = True)"
   ]
  },
  {
   "cell_type": "code",
   "execution_count": 7,
   "metadata": {},
   "outputs": [
    {
     "data": {
      "text/html": [
       "<div>\n",
       "<style scoped>\n",
       "    .dataframe tbody tr th:only-of-type {\n",
       "        vertical-align: middle;\n",
       "    }\n",
       "\n",
       "    .dataframe tbody tr th {\n",
       "        vertical-align: top;\n",
       "    }\n",
       "\n",
       "    .dataframe thead th {\n",
       "        text-align: right;\n",
       "    }\n",
       "</style>\n",
       "<table border=\"1\" class=\"dataframe\">\n",
       "  <thead>\n",
       "    <tr style=\"text-align: right;\">\n",
       "      <th></th>\n",
       "      <th>CRASH_DATE</th>\n",
       "      <th>POSTED_SPEED_LIMIT</th>\n",
       "      <th>WEATHER_CONDITION</th>\n",
       "      <th>LIGHTING_CONDITION</th>\n",
       "      <th>FIRST_CRASH_TYPE</th>\n",
       "      <th>TRAFFICWAY_TYPE</th>\n",
       "      <th>ALIGNMENT</th>\n",
       "      <th>ROADWAY_SURFACE_COND</th>\n",
       "      <th>ROAD_DEFECT</th>\n",
       "      <th>CRASH_TYPE</th>\n",
       "      <th>DAMAGE</th>\n",
       "      <th>PRIM_CONTRIBUTORY_CAUSE</th>\n",
       "      <th>SEC_CONTRIBUTORY_CAUSE</th>\n",
       "      <th>CRASH_HOUR</th>\n",
       "      <th>CRASH_DAY_OF_WEEK</th>\n",
       "      <th>CRASH_MONTH</th>\n",
       "      <th>LATITUDE</th>\n",
       "      <th>LONGITUDE</th>\n",
       "    </tr>\n",
       "  </thead>\n",
       "  <tbody>\n",
       "    <tr>\n",
       "      <th>0</th>\n",
       "      <td>07/04/2019 10:33:00 PM</td>\n",
       "      <td>45</td>\n",
       "      <td>CLEAR</td>\n",
       "      <td>DARKNESS, LIGHTED ROAD</td>\n",
       "      <td>REAR END</td>\n",
       "      <td>DIVIDED - W/MEDIAN BARRIER</td>\n",
       "      <td>STRAIGHT AND LEVEL</td>\n",
       "      <td>DRY</td>\n",
       "      <td>NO DEFECTS</td>\n",
       "      <td>NO INJURY / DRIVE AWAY</td>\n",
       "      <td>OVER $1,500</td>\n",
       "      <td>FOLLOWING TOO CLOSELY</td>\n",
       "      <td>NOT APPLICABLE</td>\n",
       "      <td>22</td>\n",
       "      <td>5</td>\n",
       "      <td>7</td>\n",
       "      <td>41.886140</td>\n",
       "      <td>-87.614274</td>\n",
       "    </tr>\n",
       "    <tr>\n",
       "      <th>1</th>\n",
       "      <td>07/30/2019 10:22:00 AM</td>\n",
       "      <td>30</td>\n",
       "      <td>CLEAR</td>\n",
       "      <td>DAYLIGHT</td>\n",
       "      <td>TURNING</td>\n",
       "      <td>DIVIDED - W/MEDIAN (NOT RAISED)</td>\n",
       "      <td>STRAIGHT AND LEVEL</td>\n",
       "      <td>DRY</td>\n",
       "      <td>NO DEFECTS</td>\n",
       "      <td>NO INJURY / DRIVE AWAY</td>\n",
       "      <td>OVER $1,500</td>\n",
       "      <td>FAILING TO YIELD RIGHT-OF-WAY</td>\n",
       "      <td>IMPROPER TURNING/NO SIGNAL</td>\n",
       "      <td>10</td>\n",
       "      <td>3</td>\n",
       "      <td>7</td>\n",
       "      <td>41.745549</td>\n",
       "      <td>-87.614670</td>\n",
       "    </tr>\n",
       "    <tr>\n",
       "      <th>2</th>\n",
       "      <td>08/10/2019 05:00:00 PM</td>\n",
       "      <td>25</td>\n",
       "      <td>CLEAR</td>\n",
       "      <td>DAYLIGHT</td>\n",
       "      <td>PARKED MOTOR VEHICLE</td>\n",
       "      <td>ONE-WAY</td>\n",
       "      <td>STRAIGHT AND LEVEL</td>\n",
       "      <td>DRY</td>\n",
       "      <td>NO DEFECTS</td>\n",
       "      <td>NO INJURY / DRIVE AWAY</td>\n",
       "      <td>$501 - $1,500</td>\n",
       "      <td>EQUIPMENT - VEHICLE CONDITION</td>\n",
       "      <td>NOT APPLICABLE</td>\n",
       "      <td>17</td>\n",
       "      <td>7</td>\n",
       "      <td>8</td>\n",
       "      <td>41.772004</td>\n",
       "      <td>-87.581234</td>\n",
       "    </tr>\n",
       "    <tr>\n",
       "      <th>3</th>\n",
       "      <td>08/16/2019 04:53:00 PM</td>\n",
       "      <td>30</td>\n",
       "      <td>CLEAR</td>\n",
       "      <td>DAYLIGHT</td>\n",
       "      <td>PARKED MOTOR VEHICLE</td>\n",
       "      <td>NOT DIVIDED</td>\n",
       "      <td>STRAIGHT AND LEVEL</td>\n",
       "      <td>DRY</td>\n",
       "      <td>NO DEFECTS</td>\n",
       "      <td>NO INJURY / DRIVE AWAY</td>\n",
       "      <td>$501 - $1,500</td>\n",
       "      <td>UNABLE TO DETERMINE</td>\n",
       "      <td>NOT APPLICABLE</td>\n",
       "      <td>16</td>\n",
       "      <td>6</td>\n",
       "      <td>8</td>\n",
       "      <td>41.892327</td>\n",
       "      <td>-87.635742</td>\n",
       "    </tr>\n",
       "    <tr>\n",
       "      <th>4</th>\n",
       "      <td>08/17/2019 04:04:00 PM</td>\n",
       "      <td>30</td>\n",
       "      <td>CLEAR</td>\n",
       "      <td>DAYLIGHT</td>\n",
       "      <td>PARKED MOTOR VEHICLE</td>\n",
       "      <td>PARKING LOT</td>\n",
       "      <td>STRAIGHT AND LEVEL</td>\n",
       "      <td>DRY</td>\n",
       "      <td>NO DEFECTS</td>\n",
       "      <td>NO INJURY / DRIVE AWAY</td>\n",
       "      <td>$501 - $1,500</td>\n",
       "      <td>UNABLE TO DETERMINE</td>\n",
       "      <td>UNABLE TO DETERMINE</td>\n",
       "      <td>16</td>\n",
       "      <td>7</td>\n",
       "      <td>8</td>\n",
       "      <td>41.948637</td>\n",
       "      <td>-87.688458</td>\n",
       "    </tr>\n",
       "  </tbody>\n",
       "</table>\n",
       "</div>"
      ],
      "text/plain": [
       "               CRASH_DATE  POSTED_SPEED_LIMIT WEATHER_CONDITION  \\\n",
       "0  07/04/2019 10:33:00 PM                  45             CLEAR   \n",
       "1  07/30/2019 10:22:00 AM                  30             CLEAR   \n",
       "2  08/10/2019 05:00:00 PM                  25             CLEAR   \n",
       "3  08/16/2019 04:53:00 PM                  30             CLEAR   \n",
       "4  08/17/2019 04:04:00 PM                  30             CLEAR   \n",
       "\n",
       "       LIGHTING_CONDITION      FIRST_CRASH_TYPE  \\\n",
       "0  DARKNESS, LIGHTED ROAD              REAR END   \n",
       "1                DAYLIGHT               TURNING   \n",
       "2                DAYLIGHT  PARKED MOTOR VEHICLE   \n",
       "3                DAYLIGHT  PARKED MOTOR VEHICLE   \n",
       "4                DAYLIGHT  PARKED MOTOR VEHICLE   \n",
       "\n",
       "                   TRAFFICWAY_TYPE           ALIGNMENT ROADWAY_SURFACE_COND  \\\n",
       "0       DIVIDED - W/MEDIAN BARRIER  STRAIGHT AND LEVEL                  DRY   \n",
       "1  DIVIDED - W/MEDIAN (NOT RAISED)  STRAIGHT AND LEVEL                  DRY   \n",
       "2                          ONE-WAY  STRAIGHT AND LEVEL                  DRY   \n",
       "3                      NOT DIVIDED  STRAIGHT AND LEVEL                  DRY   \n",
       "4                      PARKING LOT  STRAIGHT AND LEVEL                  DRY   \n",
       "\n",
       "  ROAD_DEFECT              CRASH_TYPE         DAMAGE  \\\n",
       "0  NO DEFECTS  NO INJURY / DRIVE AWAY    OVER $1,500   \n",
       "1  NO DEFECTS  NO INJURY / DRIVE AWAY    OVER $1,500   \n",
       "2  NO DEFECTS  NO INJURY / DRIVE AWAY  $501 - $1,500   \n",
       "3  NO DEFECTS  NO INJURY / DRIVE AWAY  $501 - $1,500   \n",
       "4  NO DEFECTS  NO INJURY / DRIVE AWAY  $501 - $1,500   \n",
       "\n",
       "         PRIM_CONTRIBUTORY_CAUSE      SEC_CONTRIBUTORY_CAUSE  CRASH_HOUR  \\\n",
       "0          FOLLOWING TOO CLOSELY              NOT APPLICABLE          22   \n",
       "1  FAILING TO YIELD RIGHT-OF-WAY  IMPROPER TURNING/NO SIGNAL          10   \n",
       "2  EQUIPMENT - VEHICLE CONDITION              NOT APPLICABLE          17   \n",
       "3            UNABLE TO DETERMINE              NOT APPLICABLE          16   \n",
       "4            UNABLE TO DETERMINE         UNABLE TO DETERMINE          16   \n",
       "\n",
       "   CRASH_DAY_OF_WEEK  CRASH_MONTH   LATITUDE  LONGITUDE  \n",
       "0                  5            7  41.886140 -87.614274  \n",
       "1                  3            7  41.745549 -87.614670  \n",
       "2                  7            8  41.772004 -87.581234  \n",
       "3                  6            8  41.892327 -87.635742  \n",
       "4                  7            8  41.948637 -87.688458  "
      ]
     },
     "execution_count": 7,
     "metadata": {},
     "output_type": "execute_result"
    }
   ],
   "source": [
    "df.head()"
   ]
  },
  {
   "cell_type": "code",
   "execution_count": 8,
   "metadata": {},
   "outputs": [
    {
     "data": {
      "text/plain": [
       "Index(['CRASH_DATE', 'POSTED_SPEED_LIMIT', 'WEATHER_CONDITION',\n",
       "       'LIGHTING_CONDITION', 'FIRST_CRASH_TYPE', 'TRAFFICWAY_TYPE',\n",
       "       'ALIGNMENT', 'ROADWAY_SURFACE_COND', 'ROAD_DEFECT', 'CRASH_TYPE',\n",
       "       'DAMAGE', 'PRIM_CONTRIBUTORY_CAUSE', 'SEC_CONTRIBUTORY_CAUSE',\n",
       "       'CRASH_HOUR', 'CRASH_DAY_OF_WEEK', 'CRASH_MONTH', 'LATITUDE',\n",
       "       'LONGITUDE'],\n",
       "      dtype='object')"
      ]
     },
     "execution_count": 8,
     "metadata": {},
     "output_type": "execute_result"
    }
   ],
   "source": [
    "df.columns"
   ]
  },
  {
   "cell_type": "code",
   "execution_count": 9,
   "metadata": {},
   "outputs": [],
   "source": [
    "df['CRASH_DATE'] = pd.to_datetime(df['CRASH_DATE'])"
   ]
  },
  {
   "cell_type": "code",
   "execution_count": 10,
   "metadata": {},
   "outputs": [],
   "source": [
    "dataframe = df.sort_values(by='CRASH_DATE', ascending = False).head(50000)"
   ]
  },
  {
   "cell_type": "code",
   "execution_count": 11,
   "metadata": {},
   "outputs": [
    {
     "data": {
      "text/plain": [
       "(50000, 18)"
      ]
     },
     "execution_count": 11,
     "metadata": {},
     "output_type": "execute_result"
    }
   ],
   "source": [
    "dataframe.shape"
   ]
  },
  {
   "cell_type": "code",
   "execution_count": 12,
   "metadata": {},
   "outputs": [
    {
     "data": {
      "text/html": [
       "<div>\n",
       "<style scoped>\n",
       "    .dataframe tbody tr th:only-of-type {\n",
       "        vertical-align: middle;\n",
       "    }\n",
       "\n",
       "    .dataframe tbody tr th {\n",
       "        vertical-align: top;\n",
       "    }\n",
       "\n",
       "    .dataframe thead th {\n",
       "        text-align: right;\n",
       "    }\n",
       "</style>\n",
       "<table border=\"1\" class=\"dataframe\">\n",
       "  <thead>\n",
       "    <tr style=\"text-align: right;\">\n",
       "      <th></th>\n",
       "      <th>CRASH_DATE</th>\n",
       "      <th>POSTED_SPEED_LIMIT</th>\n",
       "      <th>WEATHER_CONDITION</th>\n",
       "      <th>LIGHTING_CONDITION</th>\n",
       "      <th>FIRST_CRASH_TYPE</th>\n",
       "      <th>TRAFFICWAY_TYPE</th>\n",
       "      <th>ALIGNMENT</th>\n",
       "      <th>ROADWAY_SURFACE_COND</th>\n",
       "      <th>ROAD_DEFECT</th>\n",
       "      <th>CRASH_TYPE</th>\n",
       "      <th>DAMAGE</th>\n",
       "      <th>PRIM_CONTRIBUTORY_CAUSE</th>\n",
       "      <th>SEC_CONTRIBUTORY_CAUSE</th>\n",
       "      <th>CRASH_HOUR</th>\n",
       "      <th>CRASH_DAY_OF_WEEK</th>\n",
       "      <th>CRASH_MONTH</th>\n",
       "      <th>LATITUDE</th>\n",
       "      <th>LONGITUDE</th>\n",
       "    </tr>\n",
       "  </thead>\n",
       "  <tbody>\n",
       "    <tr>\n",
       "      <th>29087</th>\n",
       "      <td>2019-11-29 01:49:00</td>\n",
       "      <td>35</td>\n",
       "      <td>CLEAR</td>\n",
       "      <td>DARKNESS, LIGHTED ROAD</td>\n",
       "      <td>REAR END</td>\n",
       "      <td>NOT DIVIDED</td>\n",
       "      <td>STRAIGHT AND LEVEL</td>\n",
       "      <td>DRY</td>\n",
       "      <td>NO DEFECTS</td>\n",
       "      <td>NO INJURY / DRIVE AWAY</td>\n",
       "      <td>OVER $1,500</td>\n",
       "      <td>UNABLE TO DETERMINE</td>\n",
       "      <td>UNABLE TO DETERMINE</td>\n",
       "      <td>1</td>\n",
       "      <td>6</td>\n",
       "      <td>11</td>\n",
       "      <td>41.732568</td>\n",
       "      <td>-87.662826</td>\n",
       "    </tr>\n",
       "    <tr>\n",
       "      <th>29235</th>\n",
       "      <td>2019-11-29 01:12:00</td>\n",
       "      <td>30</td>\n",
       "      <td>RAIN</td>\n",
       "      <td>DARKNESS, LIGHTED ROAD</td>\n",
       "      <td>PARKED MOTOR VEHICLE</td>\n",
       "      <td>ONE-WAY</td>\n",
       "      <td>STRAIGHT AND LEVEL</td>\n",
       "      <td>WET</td>\n",
       "      <td>NO DEFECTS</td>\n",
       "      <td>INJURY AND / OR TOW DUE TO CRASH</td>\n",
       "      <td>OVER $1,500</td>\n",
       "      <td>CELL PHONE USE OTHER THAN TEXTING</td>\n",
       "      <td>FAILING TO REDUCE SPEED TO AVOID CRASH</td>\n",
       "      <td>1</td>\n",
       "      <td>6</td>\n",
       "      <td>11</td>\n",
       "      <td>41.763263</td>\n",
       "      <td>-87.692848</td>\n",
       "    </tr>\n",
       "    <tr>\n",
       "      <th>29166</th>\n",
       "      <td>2019-11-29 00:30:00</td>\n",
       "      <td>25</td>\n",
       "      <td>RAIN</td>\n",
       "      <td>DARKNESS</td>\n",
       "      <td>SIDESWIPE SAME DIRECTION</td>\n",
       "      <td>ONE-WAY</td>\n",
       "      <td>CURVE, LEVEL</td>\n",
       "      <td>WET</td>\n",
       "      <td>NO DEFECTS</td>\n",
       "      <td>INJURY AND / OR TOW DUE TO CRASH</td>\n",
       "      <td>OVER $1,500</td>\n",
       "      <td>UNABLE TO DETERMINE</td>\n",
       "      <td>UNABLE TO DETERMINE</td>\n",
       "      <td>0</td>\n",
       "      <td>6</td>\n",
       "      <td>11</td>\n",
       "      <td>41.901003</td>\n",
       "      <td>-87.619780</td>\n",
       "    </tr>\n",
       "    <tr>\n",
       "      <th>29202</th>\n",
       "      <td>2019-11-29 00:30:00</td>\n",
       "      <td>25</td>\n",
       "      <td>CLEAR</td>\n",
       "      <td>DARKNESS, LIGHTED ROAD</td>\n",
       "      <td>SIDESWIPE SAME DIRECTION</td>\n",
       "      <td>NOT DIVIDED</td>\n",
       "      <td>STRAIGHT AND LEVEL</td>\n",
       "      <td>DRY</td>\n",
       "      <td>UNKNOWN</td>\n",
       "      <td>NO INJURY / DRIVE AWAY</td>\n",
       "      <td>OVER $1,500</td>\n",
       "      <td>FOLLOWING TOO CLOSELY</td>\n",
       "      <td>FOLLOWING TOO CLOSELY</td>\n",
       "      <td>0</td>\n",
       "      <td>6</td>\n",
       "      <td>11</td>\n",
       "      <td>41.844325</td>\n",
       "      <td>-87.711067</td>\n",
       "    </tr>\n",
       "    <tr>\n",
       "      <th>29152</th>\n",
       "      <td>2019-11-29 00:00:00</td>\n",
       "      <td>35</td>\n",
       "      <td>RAIN</td>\n",
       "      <td>DARKNESS, LIGHTED ROAD</td>\n",
       "      <td>REAR END</td>\n",
       "      <td>DIVIDED - W/MEDIAN (NOT RAISED)</td>\n",
       "      <td>STRAIGHT AND LEVEL</td>\n",
       "      <td>WET</td>\n",
       "      <td>NO DEFECTS</td>\n",
       "      <td>INJURY AND / OR TOW DUE TO CRASH</td>\n",
       "      <td>$501 - $1,500</td>\n",
       "      <td>DISREGARDING TRAFFIC SIGNALS</td>\n",
       "      <td>FOLLOWING TOO CLOSELY</td>\n",
       "      <td>0</td>\n",
       "      <td>6</td>\n",
       "      <td>11</td>\n",
       "      <td>41.825967</td>\n",
       "      <td>-87.684757</td>\n",
       "    </tr>\n",
       "  </tbody>\n",
       "</table>\n",
       "</div>"
      ],
      "text/plain": [
       "               CRASH_DATE  POSTED_SPEED_LIMIT WEATHER_CONDITION  \\\n",
       "29087 2019-11-29 01:49:00                  35             CLEAR   \n",
       "29235 2019-11-29 01:12:00                  30              RAIN   \n",
       "29166 2019-11-29 00:30:00                  25              RAIN   \n",
       "29202 2019-11-29 00:30:00                  25             CLEAR   \n",
       "29152 2019-11-29 00:00:00                  35              RAIN   \n",
       "\n",
       "           LIGHTING_CONDITION          FIRST_CRASH_TYPE  \\\n",
       "29087  DARKNESS, LIGHTED ROAD                  REAR END   \n",
       "29235  DARKNESS, LIGHTED ROAD      PARKED MOTOR VEHICLE   \n",
       "29166                DARKNESS  SIDESWIPE SAME DIRECTION   \n",
       "29202  DARKNESS, LIGHTED ROAD  SIDESWIPE SAME DIRECTION   \n",
       "29152  DARKNESS, LIGHTED ROAD                  REAR END   \n",
       "\n",
       "                       TRAFFICWAY_TYPE           ALIGNMENT  \\\n",
       "29087                      NOT DIVIDED  STRAIGHT AND LEVEL   \n",
       "29235                          ONE-WAY  STRAIGHT AND LEVEL   \n",
       "29166                          ONE-WAY        CURVE, LEVEL   \n",
       "29202                      NOT DIVIDED  STRAIGHT AND LEVEL   \n",
       "29152  DIVIDED - W/MEDIAN (NOT RAISED)  STRAIGHT AND LEVEL   \n",
       "\n",
       "      ROADWAY_SURFACE_COND ROAD_DEFECT                        CRASH_TYPE  \\\n",
       "29087                  DRY  NO DEFECTS            NO INJURY / DRIVE AWAY   \n",
       "29235                  WET  NO DEFECTS  INJURY AND / OR TOW DUE TO CRASH   \n",
       "29166                  WET  NO DEFECTS  INJURY AND / OR TOW DUE TO CRASH   \n",
       "29202                  DRY     UNKNOWN            NO INJURY / DRIVE AWAY   \n",
       "29152                  WET  NO DEFECTS  INJURY AND / OR TOW DUE TO CRASH   \n",
       "\n",
       "              DAMAGE            PRIM_CONTRIBUTORY_CAUSE  \\\n",
       "29087    OVER $1,500                UNABLE TO DETERMINE   \n",
       "29235    OVER $1,500  CELL PHONE USE OTHER THAN TEXTING   \n",
       "29166    OVER $1,500                UNABLE TO DETERMINE   \n",
       "29202    OVER $1,500              FOLLOWING TOO CLOSELY   \n",
       "29152  $501 - $1,500       DISREGARDING TRAFFIC SIGNALS   \n",
       "\n",
       "                       SEC_CONTRIBUTORY_CAUSE  CRASH_HOUR  CRASH_DAY_OF_WEEK  \\\n",
       "29087                     UNABLE TO DETERMINE           1                  6   \n",
       "29235  FAILING TO REDUCE SPEED TO AVOID CRASH           1                  6   \n",
       "29166                     UNABLE TO DETERMINE           0                  6   \n",
       "29202                   FOLLOWING TOO CLOSELY           0                  6   \n",
       "29152                   FOLLOWING TOO CLOSELY           0                  6   \n",
       "\n",
       "       CRASH_MONTH   LATITUDE  LONGITUDE  \n",
       "29087           11  41.732568 -87.662826  \n",
       "29235           11  41.763263 -87.692848  \n",
       "29166           11  41.901003 -87.619780  \n",
       "29202           11  41.844325 -87.711067  \n",
       "29152           11  41.825967 -87.684757  "
      ]
     },
     "execution_count": 12,
     "metadata": {},
     "output_type": "execute_result"
    }
   ],
   "source": [
    "dataframe.head(5)"
   ]
  },
  {
   "cell_type": "code",
   "execution_count": 13,
   "metadata": {},
   "outputs": [],
   "source": [
    "# dataframe[dataframe.isnull().any(axis=1)].head()"
   ]
  },
  {
   "cell_type": "code",
   "execution_count": 14,
   "metadata": {},
   "outputs": [],
   "source": [
    "# drop missing rows\n",
    "dataframe.dropna(inplace=True)"
   ]
  },
  {
   "cell_type": "code",
   "execution_count": 15,
   "metadata": {},
   "outputs": [
    {
     "data": {
      "text/plain": [
       "(49548, 18)"
      ]
     },
     "execution_count": 15,
     "metadata": {},
     "output_type": "execute_result"
    }
   ],
   "source": [
    "dataframe.shape"
   ]
  },
  {
   "cell_type": "code",
   "execution_count": 16,
   "metadata": {},
   "outputs": [
    {
     "data": {
      "text/plain": [
       "Index(['CRASH_DATE', 'POSTED_SPEED_LIMIT', 'WEATHER_CONDITION',\n",
       "       'LIGHTING_CONDITION', 'FIRST_CRASH_TYPE', 'TRAFFICWAY_TYPE',\n",
       "       'ALIGNMENT', 'ROADWAY_SURFACE_COND', 'ROAD_DEFECT', 'CRASH_TYPE',\n",
       "       'DAMAGE', 'PRIM_CONTRIBUTORY_CAUSE', 'SEC_CONTRIBUTORY_CAUSE',\n",
       "       'CRASH_HOUR', 'CRASH_DAY_OF_WEEK', 'CRASH_MONTH', 'LATITUDE',\n",
       "       'LONGITUDE'],\n",
       "      dtype='object')"
      ]
     },
     "execution_count": 16,
     "metadata": {},
     "output_type": "execute_result"
    }
   ],
   "source": [
    "dataframe.columns"
   ]
  },
  {
   "cell_type": "code",
   "execution_count": 17,
   "metadata": {},
   "outputs": [
    {
     "name": "stdout",
     "output_type": "stream",
     "text": [
      "<class 'pandas.core.frame.DataFrame'>\n",
      "Int64Index: 49548 entries, 29087 to 342730\n",
      "Data columns (total 18 columns):\n",
      "CRASH_DATE                 49548 non-null datetime64[ns]\n",
      "POSTED_SPEED_LIMIT         49548 non-null int64\n",
      "WEATHER_CONDITION          49548 non-null object\n",
      "LIGHTING_CONDITION         49548 non-null object\n",
      "FIRST_CRASH_TYPE           49548 non-null object\n",
      "TRAFFICWAY_TYPE            49548 non-null object\n",
      "ALIGNMENT                  49548 non-null object\n",
      "ROADWAY_SURFACE_COND       49548 non-null object\n",
      "ROAD_DEFECT                49548 non-null object\n",
      "CRASH_TYPE                 49548 non-null object\n",
      "DAMAGE                     49548 non-null object\n",
      "PRIM_CONTRIBUTORY_CAUSE    49548 non-null object\n",
      "SEC_CONTRIBUTORY_CAUSE     49548 non-null object\n",
      "CRASH_HOUR                 49548 non-null int64\n",
      "CRASH_DAY_OF_WEEK          49548 non-null int64\n",
      "CRASH_MONTH                49548 non-null int64\n",
      "LATITUDE                   49548 non-null float64\n",
      "LONGITUDE                  49548 non-null float64\n",
      "dtypes: datetime64[ns](1), float64(2), int64(4), object(11)\n",
      "memory usage: 7.2+ MB\n"
     ]
    }
   ],
   "source": [
    "dataframe.info()"
   ]
  },
  {
   "cell_type": "code",
   "execution_count": 18,
   "metadata": {},
   "outputs": [
    {
     "data": {
      "text/html": [
       "<div>\n",
       "<style scoped>\n",
       "    .dataframe tbody tr th:only-of-type {\n",
       "        vertical-align: middle;\n",
       "    }\n",
       "\n",
       "    .dataframe tbody tr th {\n",
       "        vertical-align: top;\n",
       "    }\n",
       "\n",
       "    .dataframe thead th {\n",
       "        text-align: right;\n",
       "    }\n",
       "</style>\n",
       "<table border=\"1\" class=\"dataframe\">\n",
       "  <thead>\n",
       "    <tr style=\"text-align: right;\">\n",
       "      <th></th>\n",
       "      <th>POSTED_SPEED_LIMIT</th>\n",
       "      <th>CRASH_HOUR</th>\n",
       "      <th>CRASH_DAY_OF_WEEK</th>\n",
       "      <th>CRASH_MONTH</th>\n",
       "      <th>LATITUDE</th>\n",
       "      <th>LONGITUDE</th>\n",
       "    </tr>\n",
       "  </thead>\n",
       "  <tbody>\n",
       "    <tr>\n",
       "      <th>count</th>\n",
       "      <td>49548.000000</td>\n",
       "      <td>49548.000000</td>\n",
       "      <td>49548.000000</td>\n",
       "      <td>49548.000000</td>\n",
       "      <td>49548.000000</td>\n",
       "      <td>49548.000000</td>\n",
       "    </tr>\n",
       "    <tr>\n",
       "      <th>mean</th>\n",
       "      <td>28.509122</td>\n",
       "      <td>13.108824</td>\n",
       "      <td>4.110721</td>\n",
       "      <td>8.853475</td>\n",
       "      <td>41.862071</td>\n",
       "      <td>-87.678107</td>\n",
       "    </tr>\n",
       "    <tr>\n",
       "      <th>std</th>\n",
       "      <td>5.768261</td>\n",
       "      <td>5.566746</td>\n",
       "      <td>1.976268</td>\n",
       "      <td>1.458976</td>\n",
       "      <td>0.206422</td>\n",
       "      <td>0.398328</td>\n",
       "    </tr>\n",
       "    <tr>\n",
       "      <th>min</th>\n",
       "      <td>0.000000</td>\n",
       "      <td>0.000000</td>\n",
       "      <td>1.000000</td>\n",
       "      <td>6.000000</td>\n",
       "      <td>0.000000</td>\n",
       "      <td>-87.934014</td>\n",
       "    </tr>\n",
       "    <tr>\n",
       "      <th>25%</th>\n",
       "      <td>30.000000</td>\n",
       "      <td>9.000000</td>\n",
       "      <td>2.000000</td>\n",
       "      <td>8.000000</td>\n",
       "      <td>41.792668</td>\n",
       "      <td>-87.721798</td>\n",
       "    </tr>\n",
       "    <tr>\n",
       "      <th>50%</th>\n",
       "      <td>30.000000</td>\n",
       "      <td>14.000000</td>\n",
       "      <td>4.000000</td>\n",
       "      <td>9.000000</td>\n",
       "      <td>41.879747</td>\n",
       "      <td>-87.674759</td>\n",
       "    </tr>\n",
       "    <tr>\n",
       "      <th>75%</th>\n",
       "      <td>30.000000</td>\n",
       "      <td>17.000000</td>\n",
       "      <td>6.000000</td>\n",
       "      <td>10.000000</td>\n",
       "      <td>41.928205</td>\n",
       "      <td>-87.634576</td>\n",
       "    </tr>\n",
       "    <tr>\n",
       "      <th>max</th>\n",
       "      <td>60.000000</td>\n",
       "      <td>23.000000</td>\n",
       "      <td>7.000000</td>\n",
       "      <td>11.000000</td>\n",
       "      <td>42.022720</td>\n",
       "      <td>0.000000</td>\n",
       "    </tr>\n",
       "  </tbody>\n",
       "</table>\n",
       "</div>"
      ],
      "text/plain": [
       "       POSTED_SPEED_LIMIT    CRASH_HOUR  CRASH_DAY_OF_WEEK   CRASH_MONTH  \\\n",
       "count        49548.000000  49548.000000       49548.000000  49548.000000   \n",
       "mean            28.509122     13.108824           4.110721      8.853475   \n",
       "std              5.768261      5.566746           1.976268      1.458976   \n",
       "min              0.000000      0.000000           1.000000      6.000000   \n",
       "25%             30.000000      9.000000           2.000000      8.000000   \n",
       "50%             30.000000     14.000000           4.000000      9.000000   \n",
       "75%             30.000000     17.000000           6.000000     10.000000   \n",
       "max             60.000000     23.000000           7.000000     11.000000   \n",
       "\n",
       "           LATITUDE     LONGITUDE  \n",
       "count  49548.000000  49548.000000  \n",
       "mean      41.862071    -87.678107  \n",
       "std        0.206422      0.398328  \n",
       "min        0.000000    -87.934014  \n",
       "25%       41.792668    -87.721798  \n",
       "50%       41.879747    -87.674759  \n",
       "75%       41.928205    -87.634576  \n",
       "max       42.022720      0.000000  "
      ]
     },
     "execution_count": 18,
     "metadata": {},
     "output_type": "execute_result"
    }
   ],
   "source": [
    "dataframe.describe()"
   ]
  },
  {
   "cell_type": "code",
   "execution_count": 19,
   "metadata": {},
   "outputs": [],
   "source": [
    "# predictor = CRASH_TYPE\n",
    "df = dataframe[['CRASH_DATE','POSTED_SPEED_LIMIT', 'WEATHER_CONDITION',\n",
    "       'LIGHTING_CONDITION', 'FIRST_CRASH_TYPE', 'TRAFFICWAY_TYPE',\n",
    "       'ALIGNMENT', 'ROADWAY_SURFACE_COND', 'ROAD_DEFECT', 'PRIM_CONTRIBUTORY_CAUSE', 'SEC_CONTRIBUTORY_CAUSE',\n",
    "        'CRASH_DAY_OF_WEEK', 'CRASH_MONTH', 'LATITUDE',\n",
    "       'LONGITUDE','CRASH_TYPE']]"
   ]
  },
  {
   "cell_type": "code",
   "execution_count": 20,
   "metadata": {},
   "outputs": [
    {
     "data": {
      "text/plain": [
       "(49548, 16)"
      ]
     },
     "execution_count": 20,
     "metadata": {},
     "output_type": "execute_result"
    }
   ],
   "source": [
    "df.shape"
   ]
  },
  {
   "cell_type": "code",
   "execution_count": 21,
   "metadata": {},
   "outputs": [
    {
     "name": "stderr",
     "output_type": "stream",
     "text": [
      "C:\\Users\\deb10\\Anaconda3\\lib\\site-packages\\ipykernel_launcher.py:5: SettingWithCopyWarning: \n",
      "A value is trying to be set on a copy of a slice from a DataFrame.\n",
      "Try using .loc[row_indexer,col_indexer] = value instead\n",
      "\n",
      "See the caveats in the documentation: http://pandas.pydata.org/pandas-docs/stable/indexing.html#indexing-view-versus-copy\n",
      "  \"\"\"\n"
     ]
    },
    {
     "data": {
      "text/html": [
       "<style  type=\"text/css\" >\n",
       "    #T_caa573c2_159f_11ea_a563_144f8ad759dcrow0_col0 {\n",
       "            background-color:  #023858;\n",
       "            color:  #f1f1f1;\n",
       "        }    #T_caa573c2_159f_11ea_a563_144f8ad759dcrow0_col1 {\n",
       "            background-color:  #7eadd1;\n",
       "            color:  #000000;\n",
       "        }    #T_caa573c2_159f_11ea_a563_144f8ad759dcrow0_col2 {\n",
       "            background-color:  #78abd0;\n",
       "            color:  #000000;\n",
       "        }    #T_caa573c2_159f_11ea_a563_144f8ad759dcrow0_col3 {\n",
       "            background-color:  #ebe6f2;\n",
       "            color:  #000000;\n",
       "        }    #T_caa573c2_159f_11ea_a563_144f8ad759dcrow1_col0 {\n",
       "            background-color:  #fff7fb;\n",
       "            color:  #000000;\n",
       "        }    #T_caa573c2_159f_11ea_a563_144f8ad759dcrow1_col1 {\n",
       "            background-color:  #023858;\n",
       "            color:  #f1f1f1;\n",
       "        }    #T_caa573c2_159f_11ea_a563_144f8ad759dcrow1_col2 {\n",
       "            background-color:  #fff7fb;\n",
       "            color:  #000000;\n",
       "        }    #T_caa573c2_159f_11ea_a563_144f8ad759dcrow1_col3 {\n",
       "            background-color:  #fff7fb;\n",
       "            color:  #000000;\n",
       "        }    #T_caa573c2_159f_11ea_a563_144f8ad759dcrow2_col0 {\n",
       "            background-color:  #faf3f9;\n",
       "            color:  #000000;\n",
       "        }    #T_caa573c2_159f_11ea_a563_144f8ad759dcrow2_col1 {\n",
       "            background-color:  #fff7fb;\n",
       "            color:  #000000;\n",
       "        }    #T_caa573c2_159f_11ea_a563_144f8ad759dcrow2_col2 {\n",
       "            background-color:  #023858;\n",
       "            color:  #f1f1f1;\n",
       "        }    #T_caa573c2_159f_11ea_a563_144f8ad759dcrow2_col3 {\n",
       "            background-color:  #fdf5fa;\n",
       "            color:  #000000;\n",
       "        }    #T_caa573c2_159f_11ea_a563_144f8ad759dcrow3_col0 {\n",
       "            background-color:  #ebe6f2;\n",
       "            color:  #000000;\n",
       "        }    #T_caa573c2_159f_11ea_a563_144f8ad759dcrow3_col1 {\n",
       "            background-color:  #7eadd1;\n",
       "            color:  #000000;\n",
       "        }    #T_caa573c2_159f_11ea_a563_144f8ad759dcrow3_col2 {\n",
       "            background-color:  #7dacd1;\n",
       "            color:  #000000;\n",
       "        }    #T_caa573c2_159f_11ea_a563_144f8ad759dcrow3_col3 {\n",
       "            background-color:  #023858;\n",
       "            color:  #f1f1f1;\n",
       "        }</style><table id=\"T_caa573c2_159f_11ea_a563_144f8ad759dc\" ><thead>    <tr>        <th class=\"blank level0\" ></th>        <th class=\"col_heading level0 col0\" >POSTED_SPEED_LIMIT</th>        <th class=\"col_heading level0 col1\" >LATITUDE</th>        <th class=\"col_heading level0 col2\" >LONGITUDE</th>        <th class=\"col_heading level0 col3\" >CRASH_TYPE</th>    </tr></thead><tbody>\n",
       "                <tr>\n",
       "                        <th id=\"T_caa573c2_159f_11ea_a563_144f8ad759dclevel0_row0\" class=\"row_heading level0 row0\" >POSTED_SPEED_LIMIT</th>\n",
       "                        <td id=\"T_caa573c2_159f_11ea_a563_144f8ad759dcrow0_col0\" class=\"data row0 col0\" >1</td>\n",
       "                        <td id=\"T_caa573c2_159f_11ea_a563_144f8ad759dcrow0_col1\" class=\"data row0 col1\" >-0.0162374</td>\n",
       "                        <td id=\"T_caa573c2_159f_11ea_a563_144f8ad759dcrow0_col2\" class=\"data row0 col2\" >0.0180378</td>\n",
       "                        <td id=\"T_caa573c2_159f_11ea_a563_144f8ad759dcrow0_col3\" class=\"data row0 col3\" >0.115652</td>\n",
       "            </tr>\n",
       "            <tr>\n",
       "                        <th id=\"T_caa573c2_159f_11ea_a563_144f8ad759dclevel0_row1\" class=\"row_heading level0 row1\" >LATITUDE</th>\n",
       "                        <td id=\"T_caa573c2_159f_11ea_a563_144f8ad759dcrow1_col0\" class=\"data row1 col0\" >-0.0162374</td>\n",
       "                        <td id=\"T_caa573c2_159f_11ea_a563_144f8ad759dcrow1_col1\" class=\"data row1 col1\" >1</td>\n",
       "                        <td id=\"T_caa573c2_159f_11ea_a563_144f8ad759dcrow1_col2\" class=\"data row1 col2\" >-0.929787</td>\n",
       "                        <td id=\"T_caa573c2_159f_11ea_a563_144f8ad759dcrow1_col3\" class=\"data row1 col3\" >-0.0163659</td>\n",
       "            </tr>\n",
       "            <tr>\n",
       "                        <th id=\"T_caa573c2_159f_11ea_a563_144f8ad759dclevel0_row2\" class=\"row_heading level0 row2\" >LONGITUDE</th>\n",
       "                        <td id=\"T_caa573c2_159f_11ea_a563_144f8ad759dcrow2_col0\" class=\"data row2 col0\" >0.0180378</td>\n",
       "                        <td id=\"T_caa573c2_159f_11ea_a563_144f8ad759dcrow2_col1\" class=\"data row2 col1\" >-0.929787</td>\n",
       "                        <td id=\"T_caa573c2_159f_11ea_a563_144f8ad759dcrow2_col2\" class=\"data row2 col2\" >1</td>\n",
       "                        <td id=\"T_caa573c2_159f_11ea_a563_144f8ad759dcrow2_col3\" class=\"data row2 col3\" >-0.00369991</td>\n",
       "            </tr>\n",
       "            <tr>\n",
       "                        <th id=\"T_caa573c2_159f_11ea_a563_144f8ad759dclevel0_row3\" class=\"row_heading level0 row3\" >CRASH_TYPE</th>\n",
       "                        <td id=\"T_caa573c2_159f_11ea_a563_144f8ad759dcrow3_col0\" class=\"data row3 col0\" >0.115652</td>\n",
       "                        <td id=\"T_caa573c2_159f_11ea_a563_144f8ad759dcrow3_col1\" class=\"data row3 col1\" >-0.0163659</td>\n",
       "                        <td id=\"T_caa573c2_159f_11ea_a563_144f8ad759dcrow3_col2\" class=\"data row3 col2\" >-0.00369991</td>\n",
       "                        <td id=\"T_caa573c2_159f_11ea_a563_144f8ad759dcrow3_col3\" class=\"data row3 col3\" >1</td>\n",
       "            </tr>\n",
       "    </tbody></table>"
      ],
      "text/plain": [
       "<pandas.io.formats.style.Styler at 0x1f56e08e668>"
      ]
     },
     "execution_count": 21,
     "metadata": {},
     "output_type": "execute_result"
    }
   ],
   "source": [
    "# finding correlation between numerical predictors and target variable (CRASH_TYPE)\n",
    "\n",
    "data_corr = df[['POSTED_SPEED_LIMIT','LATITUDE','LONGITUDE','CRASH_TYPE']]\n",
    "codes = {'NO INJURY / DRIVE AWAY':0 ,  'INJURY AND / OR TOW DUE TO CRASH': 1}\n",
    "data_corr['CRASH_TYPE'] = data_corr['CRASH_TYPE'].map(codes)\n",
    "# data_corr.head()\n",
    "corr = data_corr.corr()\n",
    "corr.style.background_gradient(cmap='PuBu')\n"
   ]
  },
  {
   "cell_type": "code",
   "execution_count": 22,
   "metadata": {},
   "outputs": [],
   "source": [
    "# Dropping the variables "
   ]
  },
  {
   "cell_type": "code",
   "execution_count": 23,
   "metadata": {},
   "outputs": [],
   "source": [
    "# custom functions"
   ]
  },
  {
   "cell_type": "code",
   "execution_count": 24,
   "metadata": {},
   "outputs": [],
   "source": [
    "'''converting months to season based on crash date and month. Day is extracted from crash_date'''\n",
    "def convert_month_to_season(month, day):\n",
    "    if month in (1,2,3):\n",
    "        season = 'WINTER'\n",
    "    elif month in (4,5,6):\n",
    "        season = 'SPRING'\n",
    "    elif month in (7,8,9):\n",
    "        season = 'SUMMER'\n",
    "    else:\n",
    "        season = 'AUTUMN'\n",
    "        \n",
    "    if (month == 3) and (day > 19):\n",
    "        season = 'SPRING'\n",
    "    elif (month == 6) and (day > 20):\n",
    "        season = 'SUMMER'\n",
    "    elif (month == 9) and (day > 21):\n",
    "        season = 'AUTUMN'\n",
    "    elif (month == 12) and (day > 20):\n",
    "        season = 'WINTER'\n",
    "        \n",
    "    return season\n",
    "    "
   ]
  },
  {
   "cell_type": "code",
   "execution_count": 25,
   "metadata": {},
   "outputs": [
    {
     "name": "stderr",
     "output_type": "stream",
     "text": [
      "C:\\Users\\deb10\\Anaconda3\\lib\\site-packages\\ipykernel_launcher.py:1: SettingWithCopyWarning: \n",
      "A value is trying to be set on a copy of a slice from a DataFrame.\n",
      "Try using .loc[row_indexer,col_indexer] = value instead\n",
      "\n",
      "See the caveats in the documentation: http://pandas.pydata.org/pandas-docs/stable/indexing.html#indexing-view-versus-copy\n",
      "  \"\"\"Entry point for launching an IPython kernel.\n"
     ]
    }
   ],
   "source": [
    "df['CRASH_SEASON'] = df.apply(lambda x: convert_month_to_season(x['CRASH_DAY_OF_WEEK'], pd.to_datetime(x['CRASH_DATE']).day), axis=1)"
   ]
  },
  {
   "cell_type": "code",
   "execution_count": 26,
   "metadata": {},
   "outputs": [],
   "source": [
    "def convert_crash_day_to_weekday(crash_day):\n",
    "    if crash_day == 1:\n",
    "        return 'SUNDAY'\n",
    "    elif crash_day == 2:\n",
    "        return 'MONDAY'\n",
    "    elif crash_day == 3:\n",
    "        return 'TUESDAY'\n",
    "    elif crash_day == 4:\n",
    "        return 'WEDNESDAY'\n",
    "    elif crash_day == 5:\n",
    "        return 'THURSDAY'\n",
    "    elif crash_day == 6:\n",
    "        return 'FRIDAY'\n",
    "    elif crash_day == 7:\n",
    "        return 'SATURDAY'\n",
    "    "
   ]
  },
  {
   "cell_type": "code",
   "execution_count": 27,
   "metadata": {},
   "outputs": [],
   "source": [
    "df['DAY_OF_WEEK'] = df.apply(lambda x: convert_crash_day_to_weekday(x['CRASH_DAY_OF_WEEK']), axis=1)"
   ]
  },
  {
   "cell_type": "code",
   "execution_count": 28,
   "metadata": {},
   "outputs": [],
   "source": [
    "df.drop(columns=['CRASH_DATE', 'CRASH_DAY_OF_WEEK','CRASH_MONTH','LATITUDE','LONGITUDE'], inplace = True)"
   ]
  },
  {
   "cell_type": "code",
   "execution_count": 29,
   "metadata": {},
   "outputs": [
    {
     "data": {
      "text/html": [
       "<div>\n",
       "<style scoped>\n",
       "    .dataframe tbody tr th:only-of-type {\n",
       "        vertical-align: middle;\n",
       "    }\n",
       "\n",
       "    .dataframe tbody tr th {\n",
       "        vertical-align: top;\n",
       "    }\n",
       "\n",
       "    .dataframe thead th {\n",
       "        text-align: right;\n",
       "    }\n",
       "</style>\n",
       "<table border=\"1\" class=\"dataframe\">\n",
       "  <thead>\n",
       "    <tr style=\"text-align: right;\">\n",
       "      <th></th>\n",
       "      <th>POSTED_SPEED_LIMIT</th>\n",
       "      <th>WEATHER_CONDITION</th>\n",
       "      <th>LIGHTING_CONDITION</th>\n",
       "      <th>FIRST_CRASH_TYPE</th>\n",
       "      <th>TRAFFICWAY_TYPE</th>\n",
       "      <th>ALIGNMENT</th>\n",
       "      <th>ROADWAY_SURFACE_COND</th>\n",
       "      <th>ROAD_DEFECT</th>\n",
       "      <th>PRIM_CONTRIBUTORY_CAUSE</th>\n",
       "      <th>SEC_CONTRIBUTORY_CAUSE</th>\n",
       "      <th>CRASH_TYPE</th>\n",
       "      <th>CRASH_SEASON</th>\n",
       "      <th>DAY_OF_WEEK</th>\n",
       "    </tr>\n",
       "  </thead>\n",
       "  <tbody>\n",
       "    <tr>\n",
       "      <th>29087</th>\n",
       "      <td>35</td>\n",
       "      <td>CLEAR</td>\n",
       "      <td>DARKNESS, LIGHTED ROAD</td>\n",
       "      <td>REAR END</td>\n",
       "      <td>NOT DIVIDED</td>\n",
       "      <td>STRAIGHT AND LEVEL</td>\n",
       "      <td>DRY</td>\n",
       "      <td>NO DEFECTS</td>\n",
       "      <td>UNABLE TO DETERMINE</td>\n",
       "      <td>UNABLE TO DETERMINE</td>\n",
       "      <td>NO INJURY / DRIVE AWAY</td>\n",
       "      <td>SUMMER</td>\n",
       "      <td>FRIDAY</td>\n",
       "    </tr>\n",
       "    <tr>\n",
       "      <th>29235</th>\n",
       "      <td>30</td>\n",
       "      <td>RAIN</td>\n",
       "      <td>DARKNESS, LIGHTED ROAD</td>\n",
       "      <td>PARKED MOTOR VEHICLE</td>\n",
       "      <td>ONE-WAY</td>\n",
       "      <td>STRAIGHT AND LEVEL</td>\n",
       "      <td>WET</td>\n",
       "      <td>NO DEFECTS</td>\n",
       "      <td>CELL PHONE USE OTHER THAN TEXTING</td>\n",
       "      <td>FAILING TO REDUCE SPEED TO AVOID CRASH</td>\n",
       "      <td>INJURY AND / OR TOW DUE TO CRASH</td>\n",
       "      <td>SUMMER</td>\n",
       "      <td>FRIDAY</td>\n",
       "    </tr>\n",
       "    <tr>\n",
       "      <th>29166</th>\n",
       "      <td>25</td>\n",
       "      <td>RAIN</td>\n",
       "      <td>DARKNESS</td>\n",
       "      <td>SIDESWIPE SAME DIRECTION</td>\n",
       "      <td>ONE-WAY</td>\n",
       "      <td>CURVE, LEVEL</td>\n",
       "      <td>WET</td>\n",
       "      <td>NO DEFECTS</td>\n",
       "      <td>UNABLE TO DETERMINE</td>\n",
       "      <td>UNABLE TO DETERMINE</td>\n",
       "      <td>INJURY AND / OR TOW DUE TO CRASH</td>\n",
       "      <td>SUMMER</td>\n",
       "      <td>FRIDAY</td>\n",
       "    </tr>\n",
       "    <tr>\n",
       "      <th>29202</th>\n",
       "      <td>25</td>\n",
       "      <td>CLEAR</td>\n",
       "      <td>DARKNESS, LIGHTED ROAD</td>\n",
       "      <td>SIDESWIPE SAME DIRECTION</td>\n",
       "      <td>NOT DIVIDED</td>\n",
       "      <td>STRAIGHT AND LEVEL</td>\n",
       "      <td>DRY</td>\n",
       "      <td>UNKNOWN</td>\n",
       "      <td>FOLLOWING TOO CLOSELY</td>\n",
       "      <td>FOLLOWING TOO CLOSELY</td>\n",
       "      <td>NO INJURY / DRIVE AWAY</td>\n",
       "      <td>SUMMER</td>\n",
       "      <td>FRIDAY</td>\n",
       "    </tr>\n",
       "    <tr>\n",
       "      <th>29152</th>\n",
       "      <td>35</td>\n",
       "      <td>RAIN</td>\n",
       "      <td>DARKNESS, LIGHTED ROAD</td>\n",
       "      <td>REAR END</td>\n",
       "      <td>DIVIDED - W/MEDIAN (NOT RAISED)</td>\n",
       "      <td>STRAIGHT AND LEVEL</td>\n",
       "      <td>WET</td>\n",
       "      <td>NO DEFECTS</td>\n",
       "      <td>DISREGARDING TRAFFIC SIGNALS</td>\n",
       "      <td>FOLLOWING TOO CLOSELY</td>\n",
       "      <td>INJURY AND / OR TOW DUE TO CRASH</td>\n",
       "      <td>SUMMER</td>\n",
       "      <td>FRIDAY</td>\n",
       "    </tr>\n",
       "  </tbody>\n",
       "</table>\n",
       "</div>"
      ],
      "text/plain": [
       "       POSTED_SPEED_LIMIT WEATHER_CONDITION      LIGHTING_CONDITION  \\\n",
       "29087                  35             CLEAR  DARKNESS, LIGHTED ROAD   \n",
       "29235                  30              RAIN  DARKNESS, LIGHTED ROAD   \n",
       "29166                  25              RAIN                DARKNESS   \n",
       "29202                  25             CLEAR  DARKNESS, LIGHTED ROAD   \n",
       "29152                  35              RAIN  DARKNESS, LIGHTED ROAD   \n",
       "\n",
       "               FIRST_CRASH_TYPE                  TRAFFICWAY_TYPE  \\\n",
       "29087                  REAR END                      NOT DIVIDED   \n",
       "29235      PARKED MOTOR VEHICLE                          ONE-WAY   \n",
       "29166  SIDESWIPE SAME DIRECTION                          ONE-WAY   \n",
       "29202  SIDESWIPE SAME DIRECTION                      NOT DIVIDED   \n",
       "29152                  REAR END  DIVIDED - W/MEDIAN (NOT RAISED)   \n",
       "\n",
       "                ALIGNMENT ROADWAY_SURFACE_COND ROAD_DEFECT  \\\n",
       "29087  STRAIGHT AND LEVEL                  DRY  NO DEFECTS   \n",
       "29235  STRAIGHT AND LEVEL                  WET  NO DEFECTS   \n",
       "29166        CURVE, LEVEL                  WET  NO DEFECTS   \n",
       "29202  STRAIGHT AND LEVEL                  DRY     UNKNOWN   \n",
       "29152  STRAIGHT AND LEVEL                  WET  NO DEFECTS   \n",
       "\n",
       "                 PRIM_CONTRIBUTORY_CAUSE  \\\n",
       "29087                UNABLE TO DETERMINE   \n",
       "29235  CELL PHONE USE OTHER THAN TEXTING   \n",
       "29166                UNABLE TO DETERMINE   \n",
       "29202              FOLLOWING TOO CLOSELY   \n",
       "29152       DISREGARDING TRAFFIC SIGNALS   \n",
       "\n",
       "                       SEC_CONTRIBUTORY_CAUSE  \\\n",
       "29087                     UNABLE TO DETERMINE   \n",
       "29235  FAILING TO REDUCE SPEED TO AVOID CRASH   \n",
       "29166                     UNABLE TO DETERMINE   \n",
       "29202                   FOLLOWING TOO CLOSELY   \n",
       "29152                   FOLLOWING TOO CLOSELY   \n",
       "\n",
       "                             CRASH_TYPE CRASH_SEASON DAY_OF_WEEK  \n",
       "29087            NO INJURY / DRIVE AWAY       SUMMER      FRIDAY  \n",
       "29235  INJURY AND / OR TOW DUE TO CRASH       SUMMER      FRIDAY  \n",
       "29166  INJURY AND / OR TOW DUE TO CRASH       SUMMER      FRIDAY  \n",
       "29202            NO INJURY / DRIVE AWAY       SUMMER      FRIDAY  \n",
       "29152  INJURY AND / OR TOW DUE TO CRASH       SUMMER      FRIDAY  "
      ]
     },
     "execution_count": 29,
     "metadata": {},
     "output_type": "execute_result"
    }
   ],
   "source": [
    "df.head()"
   ]
  },
  {
   "cell_type": "code",
   "execution_count": 30,
   "metadata": {},
   "outputs": [],
   "source": [
    "# ax = sns.stripplot(x = 'LIGHTING_CONDITION', y = 'CRASH_TYPE', data = df1, jitter = True)\n",
    "# ax.set(title = 'Titanic fares by class', xlabel = 'Class', ylabel = 'Fare')"
   ]
  },
  {
   "cell_type": "code",
   "execution_count": 31,
   "metadata": {},
   "outputs": [
    {
     "data": {
      "image/png": "[encoded data removed]",
      "text/plain": [
       "<Figure size 807.825x648 with 1 Axes>"
      ]
     },
     "metadata": {
      "needs_background": "light"
     },
     "output_type": "display_data"
    }
   ],
   "source": [
    "sns.catplot(x=\"LIGHTING_CONDITION\", hue=\"CRASH_TYPE\", \n",
    "              data=df, kind=\"count\", height=9, aspect=0.9);"
   ]
  },
  {
   "cell_type": "code",
   "execution_count": 32,
   "metadata": {},
   "outputs": [
    {
     "data": {
      "image/png": "[encoded data removed]",
      "text/plain": [
       "<Figure size 1664.62x720 with 1 Axes>"
      ]
     },
     "metadata": {
      "needs_background": "light"
     },
     "output_type": "display_data"
    }
   ],
   "source": [
    "sns.catplot(x=\"WEATHER_CONDITION\", hue=\"CRASH_TYPE\",\n",
    "              data=df, kind=\"count\", height=10, aspect=2);"
   ]
  },
  {
   "cell_type": "code",
   "execution_count": 33,
   "metadata": {},
   "outputs": [
    {
     "data": {
      "image/png": "[encoded data removed]",
      "text/plain": [
       "<Figure size 944.625x720 with 1 Axes>"
      ]
     },
     "metadata": {
      "needs_background": "light"
     },
     "output_type": "display_data"
    }
   ],
   "source": [
    "sns.catplot(x=\"ROADWAY_SURFACE_COND\", hue=\"CRASH_TYPE\",\n",
    "              data=df, kind=\"count\", height=10, aspect=1);"
   ]
  },
  {
   "cell_type": "code",
   "execution_count": 34,
   "metadata": {},
   "outputs": [
    {
     "data": {
      "image/png": "[encoded data removed]",
      "text/plain": [
       "<Figure size 548.625x360 with 1 Axes>"
      ]
     },
     "metadata": {
      "needs_background": "light"
     },
     "output_type": "display_data"
    }
   ],
   "source": [
    "sns.catplot(x=\"CRASH_SEASON\", hue=\"CRASH_TYPE\",  data=df, kind=\"count\", height=5, aspect=0.9);"
   ]
  },
  {
   "cell_type": "code",
   "execution_count": 35,
   "metadata": {},
   "outputs": [
    {
     "data": {
      "text/plain": [
       "<seaborn.axisgrid.FacetGrid at 0x1f575350c88>"
      ]
     },
     "execution_count": 35,
     "metadata": {},
     "output_type": "execute_result"
    },
    {
     "data": {
      "image/png": "[encoded data removed]",
      "text/plain": [
       "<Figure size 14624.6x720 with 1 Axes>"
      ]
     },
     "metadata": {
      "needs_background": "light"
     },
     "output_type": "display_data"
    }
   ],
   "source": [
    "\n",
    "sns.catplot(x=\"PRIM_CONTRIBUTORY_CAUSE\", hue=\"CRASH_TYPE\", data=df, kind=\"count\", height=10,aspect = 20)\n"
   ]
  },
  {
   "cell_type": "code",
   "execution_count": 36,
   "metadata": {},
   "outputs": [
    {
     "data": {
      "image/png": "[encoded data removed]",
      "text/plain": [
       "<Figure size 944.625x720 with 1 Axes>"
      ]
     },
     "metadata": {
      "needs_background": "light"
     },
     "output_type": "display_data"
    }
   ],
   "source": [
    "sns.catplot(x=\"DAY_OF_WEEK\", hue=\"CRASH_TYPE\" ,data=df, kind=\"count\", height=10, aspect=1);"
   ]
  },
  {
   "cell_type": "code",
   "execution_count": 37,
   "metadata": {},
   "outputs": [
    {
     "data": {
      "image/png": "[encoded data removed]",
      "text/plain": [
       "<Figure size 678.225x504 with 1 Axes>"
      ]
     },
     "metadata": {
      "needs_background": "light"
     },
     "output_type": "display_data"
    }
   ],
   "source": [
    "sns.catplot(x=\"POSTED_SPEED_LIMIT\", hue=\"CRASH_TYPE\", \n",
    "              data=df, kind=\"count\", height=7, aspect=0.9);"
   ]
  },
  {
   "cell_type": "code",
   "execution_count": 38,
   "metadata": {},
   "outputs": [
    {
     "data": {
      "image/png": "[encoded data removed]",
      "text/plain": [
       "<Figure size 1376.62x576 with 1 Axes>"
      ]
     },
     "metadata": {
      "needs_background": "light"
     },
     "output_type": "display_data"
    }
   ],
   "source": [
    "sns.catplot(x=\"ROAD_DEFECT\", hue=\"CRASH_TYPE\", \n",
    "              data=df, kind=\"count\", height=8, aspect=2);"
   ]
  },
  {
   "cell_type": "code",
   "execution_count": 39,
   "metadata": {},
   "outputs": [],
   "source": [
    "# dropping records with 'UNKNOWN' records"
   ]
  },
  {
   "cell_type": "code",
   "execution_count": 40,
   "metadata": {},
   "outputs": [
    {
     "data": {
      "text/plain": [
       "(1742, 13)"
      ]
     },
     "execution_count": 40,
     "metadata": {},
     "output_type": "execute_result"
    }
   ],
   "source": [
    "df[df['LIGHTING_CONDITION'] == 'UNKNOWN'].shape "
   ]
  },
  {
   "cell_type": "code",
   "execution_count": 41,
   "metadata": {},
   "outputs": [
    {
     "data": {
      "text/plain": [
       "(1996, 13)"
      ]
     },
     "execution_count": 41,
     "metadata": {},
     "output_type": "execute_result"
    }
   ],
   "source": [
    "df[df['WEATHER_CONDITION'] == 'UNKNOWN'].shape "
   ]
  },
  {
   "cell_type": "code",
   "execution_count": 42,
   "metadata": {},
   "outputs": [
    {
     "data": {
      "text/plain": [
       "(3140, 13)"
      ]
     },
     "execution_count": 42,
     "metadata": {},
     "output_type": "execute_result"
    }
   ],
   "source": [
    "df[df['ROADWAY_SURFACE_COND'] == 'UNKNOWN'].shape "
   ]
  },
  {
   "cell_type": "code",
   "execution_count": 43,
   "metadata": {},
   "outputs": [],
   "source": [
    "temp = df"
   ]
  },
  {
   "cell_type": "code",
   "execution_count": 44,
   "metadata": {},
   "outputs": [
    {
     "data": {
      "text/plain": [
       "Int64Index([ 29089,  29131,  28981,  28786,  28499,  29149,  28484,  28939,\n",
       "             28393,  29156,\n",
       "            ...\n",
       "            345897, 340361, 350267, 338040, 347059, 350254, 339058, 349581,\n",
       "            344601, 351866],\n",
       "           dtype='int64', length=1742)"
      ]
     },
     "execution_count": 44,
     "metadata": {},
     "output_type": "execute_result"
    }
   ],
   "source": [
    "df[df['LIGHTING_CONDITION'] == 'UNKNOWN'].index"
   ]
  },
  {
   "cell_type": "code",
   "execution_count": 45,
   "metadata": {},
   "outputs": [],
   "source": [
    "index = df[(df['LIGHTING_CONDITION'] == 'UNKNOWN') | \n",
    "           (df['WEATHER_CONDITION'] == 'UNKNOWN') |\n",
    "           (df['ROADWAY_SURFACE_COND'] == 'UNKNOWN')].index\n",
    "df.drop(index, inplace = True)\n"
   ]
  },
  {
   "cell_type": "code",
   "execution_count": 46,
   "metadata": {},
   "outputs": [
    {
     "data": {
      "text/plain": [
       "(45807, 13)"
      ]
     },
     "execution_count": 46,
     "metadata": {},
     "output_type": "execute_result"
    }
   ],
   "source": [
    "df.shape"
   ]
  },
  {
   "cell_type": "code",
   "execution_count": 47,
   "metadata": {},
   "outputs": [
    {
     "name": "stdout",
     "output_type": "stream",
     "text": [
      "Train (36645, 12) (36645, 1)\n",
      "Test (9162, 12) (9162, 1)\n"
     ]
    }
   ],
   "source": [
    "# split into train and test sets\n",
    "X_train, X_test, y_train, y_test = train_test_split(df[['POSTED_SPEED_LIMIT', 'WEATHER_CONDITION',\n",
    "       'LIGHTING_CONDITION', 'FIRST_CRASH_TYPE', 'TRAFFICWAY_TYPE',\n",
    "       'ALIGNMENT', 'ROADWAY_SURFACE_COND', 'ROAD_DEFECT', 'PRIM_CONTRIBUTORY_CAUSE', 'SEC_CONTRIBUTORY_CAUSE',\n",
    "        'DAY_OF_WEEK', 'CRASH_SEASON']], df[['CRASH_TYPE']], test_size=0.2, random_state=1)\n",
    "\n",
    "# summarize\n",
    "print('Train', X_train.shape, y_train.shape)\n",
    "print('Test', X_test.shape, y_test.shape)"
   ]
  },
  {
   "cell_type": "code",
   "execution_count": null,
   "metadata": {},
   "outputs": [],
   "source": []
  },
  {
   "cell_type": "code",
   "execution_count": 48,
   "metadata": {},
   "outputs": [
    {
     "data": {
      "text/plain": [
       "Index(['POSTED_SPEED_LIMIT', 'WEATHER_CONDITION', 'LIGHTING_CONDITION',\n",
       "       'FIRST_CRASH_TYPE', 'TRAFFICWAY_TYPE', 'ALIGNMENT',\n",
       "       'ROADWAY_SURFACE_COND', 'ROAD_DEFECT', 'PRIM_CONTRIBUTORY_CAUSE',\n",
       "       'SEC_CONTRIBUTORY_CAUSE', 'DAY_OF_WEEK', 'CRASH_SEASON'],\n",
       "      dtype='object')"
      ]
     },
     "execution_count": 48,
     "metadata": {},
     "output_type": "execute_result"
    }
   ],
   "source": [
    "X_train.columns"
   ]
  },
  {
   "cell_type": "code",
   "execution_count": 49,
   "metadata": {},
   "outputs": [],
   "source": [
    "# prepare input data\n",
    "def prepare_inputs(X_train, X_test):\n",
    "    oe = OrdinalEncoder()\n",
    "    oe.fit(X_train)\n",
    "    X_train_enc = oe.transform(X_train)\n",
    "    X_test_enc = oe.transform(X_test)\n",
    "    return X_train_enc, X_test_enc"
   ]
  },
  {
   "cell_type": "code",
   "execution_count": 50,
   "metadata": {},
   "outputs": [],
   "source": [
    "# prepare target\n",
    "def prepare_targets(y_train, y_test):\n",
    "    le = LabelEncoder()\n",
    "    le.fit(y_train)\n",
    "    y_train_enc = le.transform(y_train)\n",
    "    y_test_enc = le.transform(y_test)\n",
    "    return y_train_enc, y_test_enc"
   ]
  },
  {
   "cell_type": "code",
   "execution_count": 51,
   "metadata": {},
   "outputs": [
    {
     "name": "stderr",
     "output_type": "stream",
     "text": [
      "C:\\Users\\deb10\\Anaconda3\\lib\\site-packages\\sklearn\\preprocessing\\label.py:219: DataConversionWarning: A column-vector y was passed when a 1d array was expected. Please change the shape of y to (n_samples, ), for example using ravel().\n",
      "  y = column_or_1d(y, warn=True)\n",
      "C:\\Users\\deb10\\Anaconda3\\lib\\site-packages\\sklearn\\preprocessing\\label.py:252: DataConversionWarning: A column-vector y was passed when a 1d array was expected. Please change the shape of y to (n_samples, ), for example using ravel().\n",
      "  y = column_or_1d(y, warn=True)\n"
     ]
    }
   ],
   "source": [
    "# if in X_train one category not found then gives error in x_test encoding\n",
    "\n",
    "X_train_enc, X_test_enc = prepare_inputs(X_train[['WEATHER_CONDITION', 'LIGHTING_CONDITION',\n",
    "       'FIRST_CRASH_TYPE', 'TRAFFICWAY_TYPE', 'ALIGNMENT',\n",
    "       'ROADWAY_SURFACE_COND', 'ROAD_DEFECT', 'PRIM_CONTRIBUTORY_CAUSE',\n",
    "       'SEC_CONTRIBUTORY_CAUSE', 'DAY_OF_WEEK', 'CRASH_SEASON']], X_test[['WEATHER_CONDITION', 'LIGHTING_CONDITION',\n",
    "       'FIRST_CRASH_TYPE', 'TRAFFICWAY_TYPE', 'ALIGNMENT',\n",
    "       'ROADWAY_SURFACE_COND', 'ROAD_DEFECT', 'PRIM_CONTRIBUTORY_CAUSE',\n",
    "       'SEC_CONTRIBUTORY_CAUSE', 'DAY_OF_WEEK', 'CRASH_SEASON']])\n",
    "# prepare output data\n",
    "y_train_enc, y_test_enc = prepare_targets(y_train, y_test)"
   ]
  },
  {
   "cell_type": "code",
   "execution_count": 52,
   "metadata": {},
   "outputs": [
    {
     "name": "stdout",
     "output_type": "stream",
     "text": [
      "Feature 0: 150.970664\n",
      "Feature 1: 186.771309\n",
      "Feature 2: 2234.696491\n",
      "Feature 3: 452.662611\n",
      "Feature 4: 0.049397\n",
      "Feature 5: 510.067962\n",
      "Feature 6: 10.237397\n",
      "Feature 7: 2342.642381\n",
      "Feature 8: 373.035505\n",
      "Feature 9: 0.837021\n",
      "Feature 10: 6.915061\n"
     ]
    },
    {
     "data": {
      "image/png": "[encoded data removed]",
      "text/plain": [
       "<Figure size 432x288 with 1 Axes>"
      ]
     },
     "metadata": {
      "needs_background": "light"
     },
     "output_type": "display_data"
    }
   ],
   "source": [
    "fs = SelectKBest(score_func=chi2, k='all')\n",
    "fs.fit(X_train_enc, y_train_enc)\n",
    "X_train_fs = fs.transform(X_train_enc)\n",
    "X_test_fs = fs.transform(X_test_enc)\n",
    "# what are scores for the features\n",
    "for i in range(len(fs.scores_)):\n",
    "    print('Feature %d: %f' % (i, fs.scores_[i]))\n",
    "# plot the scores\n",
    "plt.bar([i for i in range(len(fs.scores_))], fs.scores_)\n",
    "plt.show()"
   ]
  },
  {
   "cell_type": "code",
   "execution_count": 53,
   "metadata": {},
   "outputs": [],
   "source": [
    "# WEATHER_CONDITION \t\t- 0\n",
    "# LIGHTING_CONDITION \t\t- 1\n",
    "# FIRST_CRASH_TYPE \t\t\t- 2\n",
    "# TRAFFICWAY_TYPE \t\t\t- 3\n",
    "# ALIGNMENT \t\t\t\t- 4\n",
    "# ROADWAY_SURFACE_COND \t\t- 5\n",
    "# ROAD_DEFECT \t\t\t\t- 6\n",
    "# PRIM_CONTRIBUTORY_CAUSE \t- 7\n",
    "# SEC_CONTRIBUTORY_CAUSE \t- 8\n",
    "# DAY_OF_WEEK \t\t\t\t- 9\n",
    "# CRASH_SEASON\t\t\t\t- 10"
   ]
  },
  {
   "cell_type": "markdown",
   "metadata": {},
   "source": [
    "### Significant variables based on correlation matrix and Chi-square:\n",
    "#### WEATHER_CONDITION\n",
    "#### LIGHTING_CONDITION\n",
    "#### FIRST_CRASH_TYPE\n",
    "#### TRAFFICWAY_TYPE\n",
    "#### ROADWAY_SURFACE_COND\n",
    "#### PRIM_CONTRIBUTORY_CAUSE\n",
    "#### SEC_CONTRIBUTORY_CAUSE\n",
    "#### POSTED_SPEED_LIMIT\n"
   ]
  },
  {
   "cell_type": "code",
   "execution_count": 54,
   "metadata": {},
   "outputs": [],
   "source": [
    "# create dummy before train test split"
   ]
  },
  {
   "cell_type": "code",
   "execution_count": 55,
   "metadata": {},
   "outputs": [],
   "source": [
    "df_dummy = df[['POSTED_SPEED_LIMIT', 'WEATHER_CONDITION', 'LIGHTING_CONDITION', 'FIRST_CRASH_TYPE', 'TRAFFICWAY_TYPE',\n",
    "        'ROADWAY_SURFACE_COND', 'PRIM_CONTRIBUTORY_CAUSE', 'SEC_CONTRIBUTORY_CAUSE']]"
   ]
  },
  {
   "cell_type": "code",
   "execution_count": 56,
   "metadata": {},
   "outputs": [],
   "source": [
    "data_dummy = pd.get_dummies(df_dummy.iloc[:,1:])"
   ]
  },
  {
   "cell_type": "code",
   "execution_count": 57,
   "metadata": {},
   "outputs": [],
   "source": [
    "# data_dummy.head()"
   ]
  },
  {
   "cell_type": "code",
   "execution_count": 58,
   "metadata": {},
   "outputs": [],
   "source": [
    "final_data = pd.concat([df.iloc[:,0],data_dummy], axis = 1)"
   ]
  },
  {
   "cell_type": "code",
   "execution_count": 59,
   "metadata": {},
   "outputs": [
    {
     "name": "stdout",
     "output_type": "stream",
     "text": [
      "Train (30690, 136) (30690, 1)\n",
      "Test (15117, 136) (15117, 1)\n"
     ]
    }
   ],
   "source": [
    "# split into train and test sets\n",
    "X_train, X_test, y_train, y_test = train_test_split(final_data, df[['CRASH_TYPE']], test_size=0.33, random_state=1)\n",
    "\n",
    "# summarize\n",
    "print('Train', X_train.shape, y_train.shape)\n",
    "print('Test', X_test.shape, y_test.shape)"
   ]
  },
  {
   "cell_type": "code",
   "execution_count": 60,
   "metadata": {},
   "outputs": [
    {
     "name": "stderr",
     "output_type": "stream",
     "text": [
      "C:\\Users\\deb10\\Anaconda3\\lib\\site-packages\\sklearn\\preprocessing\\label.py:219: DataConversionWarning: A column-vector y was passed when a 1d array was expected. Please change the shape of y to (n_samples, ), for example using ravel().\n",
      "  y = column_or_1d(y, warn=True)\n",
      "C:\\Users\\deb10\\Anaconda3\\lib\\site-packages\\sklearn\\preprocessing\\label.py:252: DataConversionWarning: A column-vector y was passed when a 1d array was expected. Please change the shape of y to (n_samples, ), for example using ravel().\n",
      "  y = column_or_1d(y, warn=True)\n"
     ]
    }
   ],
   "source": [
    "y_train, y_test = prepare_targets(y_train, y_test)"
   ]
  },
  {
   "cell_type": "code",
   "execution_count": null,
   "metadata": {},
   "outputs": [],
   "source": []
  },
  {
   "cell_type": "code",
   "execution_count": 61,
   "metadata": {},
   "outputs": [
    {
     "name": "stdout",
     "output_type": "stream",
     "text": [
      "[0.7312297413507971, 0.2687702586492029, array([0.52420882, 0.79824869]), array([0.45685997, 0.83825287]), array([0.4882227 , 0.81776183])]\n",
      "F1 score (average: macro) = 0.6529922640397665\n",
      "F1 score (average: weighted) = 0.7252894480748829\n"
     ]
    },
    {
     "data": {
      "image/png": "[encoded data removed]",
      "text/plain": [
       "<Figure size 432x288 with 2 Axes>"
      ]
     },
     "metadata": {
      "needs_background": "light"
     },
     "output_type": "display_data"
    }
   ],
   "source": [
    "# evaluating with all the predictors\n",
    "classifier = DecisionTreeClassifier(criterion = \"entropy\", random_state = 0)\n",
    "classifier.fit(X_train,y_train)\n",
    "y_pred = classifier.predict(X_test)\n",
    "\n",
    "# confusion matrix\n",
    "conf_matrix = metrics.confusion_matrix(y_test, y_pred)\n",
    "sns.heatmap(conf_matrix, annot = True, fmt = \".3f\", square = True, cmap = plt.cm.Blues)\n",
    "plt.ylabel('Actual')\n",
    "plt.xlabel('Predicted')\n",
    "plt.title('Confusion matrix')\n",
    "plt.tight_layout()\n",
    "\n",
    "# evaluation metric\n",
    "accuracy = metrics.accuracy_score(y_test, y_pred)\n",
    "error = 1 - metrics.accuracy_score(y_test, y_pred)\n",
    "precision = metrics.precision_score(y_test, y_pred, average = None)\n",
    "recall = metrics.recall_score(y_test, y_pred, average = None)\n",
    "F1_score = metrics.f1_score(y_test, y_pred, average = None)\n",
    "print([accuracy, error, precision, recall, F1_score])\n",
    "print(\"F1 score (average: macro) = {0}\".format(metrics.f1_score(y_test, y_pred, average = \"macro\")))\n",
    "print(\"F1 score (average: weighted) = {0}\".format(metrics.f1_score(y_test, y_pred, average = \"weighted\")))"
   ]
  },
  {
   "cell_type": "code",
   "execution_count": 62,
   "metadata": {},
   "outputs": [
    {
     "name": "stdout",
     "output_type": "stream",
     "text": [
      "[0.7340080703843355, 0.26599192961566454, array([0.53005167, 0.79956294]), array([0.45945309, 0.84110345]), array([0.49223387, 0.8198073 ])]\n",
      "F1 score (average: macro) = 0.6560205862081562\n",
      "F1 score (average: weighted) = 0.7278865187645048\n"
     ]
    },
    {
     "data": {
      "image/png": "[encoded data removed]",
      "text/plain": [
       "<Figure size 432x288 with 2 Axes>"
      ]
     },
     "metadata": {
      "needs_background": "light"
     },
     "output_type": "display_data"
    }
   ],
   "source": [
    "# evaluating with all the predictors\n",
    "classifier = DecisionTreeClassifier(criterion = \"entropy\", random_state = 1)\n",
    "classifier.fit(X_train,y_train)\n",
    "y_pred = classifier.predict(X_test)\n",
    "\n",
    "# confusion matrix\n",
    "conf_matrix = metrics.confusion_matrix(y_test, y_pred)\n",
    "sns.heatmap(conf_matrix, annot = True, fmt = \".3f\", square = True, cmap = plt.cm.Blues)\n",
    "plt.ylabel('Actual')\n",
    "plt.xlabel('Predicted')\n",
    "plt.title('Confusion matrix')\n",
    "plt.tight_layout()\n",
    "\n",
    "# evaluation metric\n",
    "accuracy = metrics.accuracy_score(y_test, y_pred)\n",
    "error = 1 - metrics.accuracy_score(y_test, y_pred)\n",
    "precision = metrics.precision_score(y_test, y_pred, average = None)\n",
    "recall = metrics.recall_score(y_test, y_pred, average = None)\n",
    "F1_score = metrics.f1_score(y_test, y_pred, average = None)\n",
    "print([accuracy, error, precision, recall, F1_score])\n",
    "print(\"F1 score (average: macro) = {0}\".format(metrics.f1_score(y_test, y_pred, average = \"macro\")))\n",
    "print(\"F1 score (average: weighted) = {0}\".format(metrics.f1_score(y_test, y_pred, average = \"weighted\")))"
   ]
  },
  {
   "cell_type": "code",
   "execution_count": 63,
   "metadata": {},
   "outputs": [
    {
     "name": "stdout",
     "output_type": "stream",
     "text": [
      "[0.7336773169279619, 0.2663226830720381, array([0.52939575, 0.79926593]), array([0.45851014, 0.84101149]), array([0.4914098 , 0.81960749])]\n",
      "F1 score (average: macro) = 0.65550864732075\n",
      "F1 score (average: weighted) = 0.7275115337954947\n"
     ]
    },
    {
     "data": {
      "image/png": "[encoded data removed]",
      "text/plain": [
       "<Figure size 432x288 with 2 Axes>"
      ]
     },
     "metadata": {
      "needs_background": "light"
     },
     "output_type": "display_data"
    }
   ],
   "source": [
    "# evaluating with all the predictors\n",
    "classifier = DecisionTreeClassifier(criterion = \"entropy\", random_state = 2)\n",
    "classifier.fit(X_train,y_train)\n",
    "y_pred = classifier.predict(X_test)\n",
    "\n",
    "# confusion matrix\n",
    "conf_matrix = metrics.confusion_matrix(y_test, y_pred)\n",
    "sns.heatmap(conf_matrix, annot = True, fmt = \".3f\", square = True, cmap = plt.cm.Blues)\n",
    "plt.ylabel('Actual')\n",
    "plt.xlabel('Predicted')\n",
    "plt.title('Confusion matrix')\n",
    "plt.tight_layout()\n",
    "\n",
    "# evaluation metric\n",
    "accuracy = metrics.accuracy_score(y_test, y_pred)\n",
    "error = 1 - metrics.accuracy_score(y_test, y_pred)\n",
    "precision = metrics.precision_score(y_test, y_pred, average = None)\n",
    "recall = metrics.recall_score(y_test, y_pred, average = None)\n",
    "F1_score = metrics.f1_score(y_test, y_pred, average = None)\n",
    "print([accuracy, error, precision, recall, F1_score])\n",
    "print(\"F1 score (average: macro) = {0}\".format(metrics.f1_score(y_test, y_pred, average = \"macro\")))\n",
    "print(\"F1 score (average: weighted) = {0}\".format(metrics.f1_score(y_test, y_pred, average = \"weighted\")))"
   ]
  },
  {
   "cell_type": "code",
   "execution_count": 64,
   "metadata": {},
   "outputs": [
    {
     "name": "stdout",
     "output_type": "stream",
     "text": [
      "[0.7264007408877423, 0.2735992591122577, array([0.51690051, 0.78123696]), array([0.38213107, 0.86068966]), array([0.43941448, 0.81904095])]\n",
      "F1 score (average: macro) = 0.6292277137576044\n",
      "F1 score (average: weighted) = 0.7125134986076115\n"
     ]
    },
    {
     "data": {
      "image/png": "[encoded data removed]",
      "text/plain": [
       "<Figure size 432x288 with 2 Axes>"
      ]
     },
     "metadata": {
      "needs_background": "light"
     },
     "output_type": "display_data"
    }
   ],
   "source": [
    "classifier = KNeighborsClassifier(n_neighbors=3) \n",
    "\n",
    "classifier.fit(X_train ,y_train)\n",
    "y_pred = classifier.predict(X_test)\n",
    "\n",
    "# confusion matrix\n",
    "conf_matrix = metrics.confusion_matrix(y_test, y_pred)\n",
    "sns.heatmap(conf_matrix, annot = True, fmt = \".3f\", square = True, cmap = plt.cm.Blues)\n",
    "plt.ylabel('Actual')\n",
    "plt.xlabel('Predicted')\n",
    "plt.title('Confusion matrix')\n",
    "plt.tight_layout()\n",
    "\n",
    "# evaluation metric\n",
    "accuracy = metrics.accuracy_score(y_test, y_pred)\n",
    "error = 1 - metrics.accuracy_score(y_test, y_pred)\n",
    "precision = metrics.precision_score(y_test, y_pred, average = None)\n",
    "recall = metrics.recall_score(y_test, y_pred, average = None)\n",
    "F1_score = metrics.f1_score(y_test, y_pred, average = None)\n",
    "print([accuracy, error, precision, recall, F1_score])\n",
    "print(\"F1 score (average: macro) = {0}\".format(metrics.f1_score(y_test, y_pred, average = \"macro\")))\n",
    "print(\"F1 score (average: weighted) = {0}\".format(metrics.f1_score(y_test, y_pred, average = \"weighted\")))"
   ]
  },
  {
   "cell_type": "code",
   "execution_count": 65,
   "metadata": {},
   "outputs": [
    {
     "name": "stdout",
     "output_type": "stream",
     "text": [
      "[0.7000066150691274, 0.2999933849308726, array([0.46726257, 0.79787634]), array([0.49292786, 0.78078161]), array([0.47975221, 0.78923642])]\n",
      "F1 score (average: macro) = 0.6344943130223889\n",
      "F1 score (average: weighted) = 0.7023916723155166\n"
     ]
    },
    {
     "data": {
      "image/png": "[encoded data removed]",
      "text/plain": [
       "<Figure size 432x288 with 2 Axes>"
      ]
     },
     "metadata": {
      "needs_background": "light"
     },
     "output_type": "display_data"
    }
   ],
   "source": [
    "classifier = KNeighborsClassifier(n_neighbors=4) \n",
    "\n",
    "classifier.fit(X_train ,y_train)\n",
    "y_pred = classifier.predict(X_test)\n",
    "\n",
    "# confusion matrix\n",
    "conf_matrix = metrics.confusion_matrix(y_test, y_pred)\n",
    "sns.heatmap(conf_matrix, annot = True, fmt = \".3f\", square = True, cmap = plt.cm.Blues)\n",
    "plt.ylabel('Actual')\n",
    "plt.xlabel('Predicted')\n",
    "plt.title('Confusion matrix')\n",
    "plt.tight_layout()\n",
    "\n",
    "# evaluation metric\n",
    "accuracy = metrics.accuracy_score(y_test, y_pred)\n",
    "error = 1 - metrics.accuracy_score(y_test, y_pred)\n",
    "precision = metrics.precision_score(y_test, y_pred, average = None)\n",
    "recall = metrics.recall_score(y_test, y_pred, average = None)\n",
    "F1_score = metrics.f1_score(y_test, y_pred, average = None)\n",
    "print([accuracy, error, precision, recall, F1_score])\n",
    "print(\"F1 score (average: macro) = {0}\".format(metrics.f1_score(y_test, y_pred, average = \"macro\")))\n",
    "print(\"F1 score (average: weighted) = {0}\".format(metrics.f1_score(y_test, y_pred, average = \"weighted\")))"
   ]
  },
  {
   "cell_type": "code",
   "execution_count": 66,
   "metadata": {},
   "outputs": [
    {
     "name": "stdout",
     "output_type": "stream",
     "text": [
      "[0.7314281934246213, 0.2685718065753787, array([0.53140097, 0.77886897]), array([0.3630363 , 0.87512644]), array([0.43137255, 0.82419676])]\n",
      "F1 score (average: macro) = 0.6277846550415438\n",
      "F1 score (average: weighted) = 0.713965874810248\n"
     ]
    },
    {
     "data": {
      "image/png": "[encoded data removed]",
      "text/plain": [
       "<Figure size 432x288 with 2 Axes>"
      ]
     },
     "metadata": {
      "needs_background": "light"
     },
     "output_type": "display_data"
    }
   ],
   "source": [
    "classifier = KNeighborsClassifier(n_neighbors=5) \n",
    "\n",
    "classifier.fit(X_train ,y_train)\n",
    "y_pred = classifier.predict(X_test)\n",
    "\n",
    "# confusion matrix\n",
    "conf_matrix = metrics.confusion_matrix(y_test, y_pred)\n",
    "sns.heatmap(conf_matrix, annot = True, fmt = \".3f\", square = True, cmap = plt.cm.Blues)\n",
    "plt.ylabel('Actual')\n",
    "plt.xlabel('Predicted')\n",
    "plt.title('Confusion matrix')\n",
    "plt.tight_layout()\n",
    "\n",
    "# evaluation metric\n",
    "accuracy = metrics.accuracy_score(y_test, y_pred)\n",
    "error = 1 - metrics.accuracy_score(y_test, y_pred)\n",
    "precision = metrics.precision_score(y_test, y_pred, average = None)\n",
    "recall = metrics.recall_score(y_test, y_pred, average = None)\n",
    "F1_score = metrics.f1_score(y_test, y_pred, average = None)\n",
    "print([accuracy, error, precision, recall, F1_score])\n",
    "print(\"F1 score (average: macro) = {0}\".format(metrics.f1_score(y_test, y_pred, average = \"macro\")))\n",
    "print(\"F1 score (average: weighted) = {0}\".format(metrics.f1_score(y_test, y_pred, average = \"weighted\")))"
   ]
  },
  {
   "cell_type": "code",
   "execution_count": 67,
   "metadata": {},
   "outputs": [
    {
     "name": "stdout",
     "output_type": "stream",
     "text": [
      "[0.7446583316795661, 0.2553416683204339, array([0.57478465, 0.77919287]), array([0.34606318, 0.90013793]), array([0.43201883, 0.83531018])]\n",
      "F1 score (average: macro) = 0.6336645073290428\n",
      "F1 score (average: weighted) = 0.7221420985941576\n"
     ]
    },
    {
     "data": {
      "image/png": "[encoded data removed]",
      "text/plain": [
       "<Figure size 432x288 with 2 Axes>"
      ]
     },
     "metadata": {
      "needs_background": "light"
     },
     "output_type": "display_data"
    }
   ],
   "source": [
    "classifier = KNeighborsClassifier(n_neighbors=7) \n",
    "\n",
    "classifier.fit(X_train ,y_train)\n",
    "y_pred = classifier.predict(X_test)\n",
    "\n",
    "# confusion matrix\n",
    "conf_matrix = metrics.confusion_matrix(y_test, y_pred)\n",
    "sns.heatmap(conf_matrix, annot = True, fmt = \".3f\", square = True, cmap = plt.cm.Blues)\n",
    "plt.ylabel('Actual')\n",
    "plt.xlabel('Predicted')\n",
    "plt.title('Confusion matrix')\n",
    "plt.tight_layout()\n",
    "\n",
    "# evaluation metric\n",
    "accuracy = metrics.accuracy_score(y_test, y_pred)\n",
    "error = 1 - metrics.accuracy_score(y_test, y_pred)\n",
    "precision = metrics.precision_score(y_test, y_pred, average = None)\n",
    "recall = metrics.recall_score(y_test, y_pred, average = None)\n",
    "F1_score = metrics.f1_score(y_test, y_pred, average = None)\n",
    "print([accuracy, error, precision, recall, F1_score])\n",
    "print(\"F1 score (average: macro) = {0}\".format(metrics.f1_score(y_test, y_pred, average = \"macro\")))\n",
    "print(\"F1 score (average: weighted) = {0}\".format(metrics.f1_score(y_test, y_pred, average = \"weighted\")))"
   ]
  },
  {
   "cell_type": "code",
   "execution_count": 68,
   "metadata": {},
   "outputs": [
    {
     "name": "stdout",
     "output_type": "stream",
     "text": [
      "[0.7404246874379837, 0.25957531256201627, array([0.55028463, 0.79071518]), array([0.41018388, 0.86924138]), array([0.47001621, 0.82812089])]\n",
      "F1 score (average: macro) = 0.6490685505082666\n",
      "F1 score (average: weighted) = 0.7276326962692953\n"
     ]
    },
    {
     "data": {
      "image/png": "[encoded data removed]",
      "text/plain": [
       "<Figure size 432x288 with 2 Axes>"
      ]
     },
     "metadata": {
      "needs_background": "light"
     },
     "output_type": "display_data"
    }
   ],
   "source": [
    "classifier = KNeighborsClassifier(n_neighbors=8) \n",
    "\n",
    "classifier.fit(X_train ,y_train)\n",
    "y_pred = classifier.predict(X_test)\n",
    "\n",
    "# confusion matrix\n",
    "conf_matrix = metrics.confusion_matrix(y_test, y_pred)\n",
    "sns.heatmap(conf_matrix, annot = True, fmt = \".3f\", square = True, cmap = plt.cm.Blues)\n",
    "plt.ylabel('Actual')\n",
    "plt.xlabel('Predicted')\n",
    "plt.title('Confusion matrix')\n",
    "plt.tight_layout()\n",
    "\n",
    "# evaluation metric\n",
    "accuracy = metrics.accuracy_score(y_test, y_pred)\n",
    "error = 1 - metrics.accuracy_score(y_test, y_pred)\n",
    "precision = metrics.precision_score(y_test, y_pred, average = None)\n",
    "recall = metrics.recall_score(y_test, y_pred, average = None)\n",
    "F1_score = metrics.f1_score(y_test, y_pred, average = None)\n",
    "print([accuracy, error, precision, recall, F1_score])\n",
    "print(\"F1 score (average: macro) = {0}\".format(metrics.f1_score(y_test, y_pred, average = \"macro\")))\n",
    "print(\"F1 score (average: weighted) = {0}\".format(metrics.f1_score(y_test, y_pred, average = \"weighted\")))"
   ]
  },
  {
   "cell_type": "code",
   "execution_count": 69,
   "metadata": {},
   "outputs": [
    {
     "data": {
      "text/html": [
       "<div>\n",
       "<style scoped>\n",
       "    .dataframe tbody tr th:only-of-type {\n",
       "        vertical-align: middle;\n",
       "    }\n",
       "\n",
       "    .dataframe tbody tr th {\n",
       "        vertical-align: top;\n",
       "    }\n",
       "\n",
       "    .dataframe thead th {\n",
       "        text-align: right;\n",
       "    }\n",
       "</style>\n",
       "<table border=\"1\" class=\"dataframe\">\n",
       "  <thead>\n",
       "    <tr style=\"text-align: right;\">\n",
       "      <th></th>\n",
       "      <th>CRASH_TYPE</th>\n",
       "      <th>Count</th>\n",
       "    </tr>\n",
       "  </thead>\n",
       "  <tbody>\n",
       "    <tr>\n",
       "      <th>0</th>\n",
       "      <td>NO INJURY / DRIVE AWAY</td>\n",
       "      <td>32722</td>\n",
       "    </tr>\n",
       "    <tr>\n",
       "      <th>1</th>\n",
       "      <td>INJURY AND / OR TOW DUE TO CRASH</td>\n",
       "      <td>13085</td>\n",
       "    </tr>\n",
       "  </tbody>\n",
       "</table>\n",
       "</div>"
      ],
      "text/plain": [
       "                         CRASH_TYPE  Count\n",
       "0            NO INJURY / DRIVE AWAY  32722\n",
       "1  INJURY AND / OR TOW DUE TO CRASH  13085"
      ]
     },
     "execution_count": 69,
     "metadata": {},
     "output_type": "execute_result"
    }
   ],
   "source": [
    "df.groupby(['CRASH_TYPE'], sort=False).size().reset_index(name='Count')"
   ]
  },
  {
   "cell_type": "code",
   "execution_count": 70,
   "metadata": {},
   "outputs": [
    {
     "data": {
      "text/html": [
       "<div>\n",
       "<style scoped>\n",
       "    .dataframe tbody tr th:only-of-type {\n",
       "        vertical-align: middle;\n",
       "    }\n",
       "\n",
       "    .dataframe tbody tr th {\n",
       "        vertical-align: top;\n",
       "    }\n",
       "\n",
       "    .dataframe thead th {\n",
       "        text-align: right;\n",
       "    }\n",
       "</style>\n",
       "<table border=\"1\" class=\"dataframe\">\n",
       "  <thead>\n",
       "    <tr style=\"text-align: right;\">\n",
       "      <th></th>\n",
       "      <th>POSTED_SPEED_LIMIT</th>\n",
       "      <th>WEATHER_CONDITION</th>\n",
       "      <th>LIGHTING_CONDITION</th>\n",
       "      <th>FIRST_CRASH_TYPE</th>\n",
       "      <th>TRAFFICWAY_TYPE</th>\n",
       "      <th>ALIGNMENT</th>\n",
       "      <th>ROADWAY_SURFACE_COND</th>\n",
       "      <th>ROAD_DEFECT</th>\n",
       "      <th>PRIM_CONTRIBUTORY_CAUSE</th>\n",
       "      <th>SEC_CONTRIBUTORY_CAUSE</th>\n",
       "      <th>CRASH_TYPE</th>\n",
       "      <th>CRASH_SEASON</th>\n",
       "      <th>DAY_OF_WEEK</th>\n",
       "    </tr>\n",
       "  </thead>\n",
       "  <tbody>\n",
       "    <tr>\n",
       "      <th>29087</th>\n",
       "      <td>35</td>\n",
       "      <td>CLEAR</td>\n",
       "      <td>DARKNESS, LIGHTED ROAD</td>\n",
       "      <td>REAR END</td>\n",
       "      <td>NOT DIVIDED</td>\n",
       "      <td>STRAIGHT AND LEVEL</td>\n",
       "      <td>DRY</td>\n",
       "      <td>NO DEFECTS</td>\n",
       "      <td>UNABLE TO DETERMINE</td>\n",
       "      <td>UNABLE TO DETERMINE</td>\n",
       "      <td>NO INJURY / DRIVE AWAY</td>\n",
       "      <td>SUMMER</td>\n",
       "      <td>FRIDAY</td>\n",
       "    </tr>\n",
       "    <tr>\n",
       "      <th>29235</th>\n",
       "      <td>30</td>\n",
       "      <td>RAIN</td>\n",
       "      <td>DARKNESS, LIGHTED ROAD</td>\n",
       "      <td>PARKED MOTOR VEHICLE</td>\n",
       "      <td>ONE-WAY</td>\n",
       "      <td>STRAIGHT AND LEVEL</td>\n",
       "      <td>WET</td>\n",
       "      <td>NO DEFECTS</td>\n",
       "      <td>CELL PHONE USE OTHER THAN TEXTING</td>\n",
       "      <td>FAILING TO REDUCE SPEED TO AVOID CRASH</td>\n",
       "      <td>INJURY AND / OR TOW DUE TO CRASH</td>\n",
       "      <td>SUMMER</td>\n",
       "      <td>FRIDAY</td>\n",
       "    </tr>\n",
       "    <tr>\n",
       "      <th>29166</th>\n",
       "      <td>25</td>\n",
       "      <td>RAIN</td>\n",
       "      <td>DARKNESS</td>\n",
       "      <td>SIDESWIPE SAME DIRECTION</td>\n",
       "      <td>ONE-WAY</td>\n",
       "      <td>CURVE, LEVEL</td>\n",
       "      <td>WET</td>\n",
       "      <td>NO DEFECTS</td>\n",
       "      <td>UNABLE TO DETERMINE</td>\n",
       "      <td>UNABLE TO DETERMINE</td>\n",
       "      <td>INJURY AND / OR TOW DUE TO CRASH</td>\n",
       "      <td>SUMMER</td>\n",
       "      <td>FRIDAY</td>\n",
       "    </tr>\n",
       "    <tr>\n",
       "      <th>29202</th>\n",
       "      <td>25</td>\n",
       "      <td>CLEAR</td>\n",
       "      <td>DARKNESS, LIGHTED ROAD</td>\n",
       "      <td>SIDESWIPE SAME DIRECTION</td>\n",
       "      <td>NOT DIVIDED</td>\n",
       "      <td>STRAIGHT AND LEVEL</td>\n",
       "      <td>DRY</td>\n",
       "      <td>UNKNOWN</td>\n",
       "      <td>FOLLOWING TOO CLOSELY</td>\n",
       "      <td>FOLLOWING TOO CLOSELY</td>\n",
       "      <td>NO INJURY / DRIVE AWAY</td>\n",
       "      <td>SUMMER</td>\n",
       "      <td>FRIDAY</td>\n",
       "    </tr>\n",
       "    <tr>\n",
       "      <th>29152</th>\n",
       "      <td>35</td>\n",
       "      <td>RAIN</td>\n",
       "      <td>DARKNESS, LIGHTED ROAD</td>\n",
       "      <td>REAR END</td>\n",
       "      <td>DIVIDED - W/MEDIAN (NOT RAISED)</td>\n",
       "      <td>STRAIGHT AND LEVEL</td>\n",
       "      <td>WET</td>\n",
       "      <td>NO DEFECTS</td>\n",
       "      <td>DISREGARDING TRAFFIC SIGNALS</td>\n",
       "      <td>FOLLOWING TOO CLOSELY</td>\n",
       "      <td>INJURY AND / OR TOW DUE TO CRASH</td>\n",
       "      <td>SUMMER</td>\n",
       "      <td>FRIDAY</td>\n",
       "    </tr>\n",
       "  </tbody>\n",
       "</table>\n",
       "</div>"
      ],
      "text/plain": [
       "       POSTED_SPEED_LIMIT WEATHER_CONDITION      LIGHTING_CONDITION  \\\n",
       "29087                  35             CLEAR  DARKNESS, LIGHTED ROAD   \n",
       "29235                  30              RAIN  DARKNESS, LIGHTED ROAD   \n",
       "29166                  25              RAIN                DARKNESS   \n",
       "29202                  25             CLEAR  DARKNESS, LIGHTED ROAD   \n",
       "29152                  35              RAIN  DARKNESS, LIGHTED ROAD   \n",
       "\n",
       "               FIRST_CRASH_TYPE                  TRAFFICWAY_TYPE  \\\n",
       "29087                  REAR END                      NOT DIVIDED   \n",
       "29235      PARKED MOTOR VEHICLE                          ONE-WAY   \n",
       "29166  SIDESWIPE SAME DIRECTION                          ONE-WAY   \n",
       "29202  SIDESWIPE SAME DIRECTION                      NOT DIVIDED   \n",
       "29152                  REAR END  DIVIDED - W/MEDIAN (NOT RAISED)   \n",
       "\n",
       "                ALIGNMENT ROADWAY_SURFACE_COND ROAD_DEFECT  \\\n",
       "29087  STRAIGHT AND LEVEL                  DRY  NO DEFECTS   \n",
       "29235  STRAIGHT AND LEVEL                  WET  NO DEFECTS   \n",
       "29166        CURVE, LEVEL                  WET  NO DEFECTS   \n",
       "29202  STRAIGHT AND LEVEL                  DRY     UNKNOWN   \n",
       "29152  STRAIGHT AND LEVEL                  WET  NO DEFECTS   \n",
       "\n",
       "                 PRIM_CONTRIBUTORY_CAUSE  \\\n",
       "29087                UNABLE TO DETERMINE   \n",
       "29235  CELL PHONE USE OTHER THAN TEXTING   \n",
       "29166                UNABLE TO DETERMINE   \n",
       "29202              FOLLOWING TOO CLOSELY   \n",
       "29152       DISREGARDING TRAFFIC SIGNALS   \n",
       "\n",
       "                       SEC_CONTRIBUTORY_CAUSE  \\\n",
       "29087                     UNABLE TO DETERMINE   \n",
       "29235  FAILING TO REDUCE SPEED TO AVOID CRASH   \n",
       "29166                     UNABLE TO DETERMINE   \n",
       "29202                   FOLLOWING TOO CLOSELY   \n",
       "29152                   FOLLOWING TOO CLOSELY   \n",
       "\n",
       "                             CRASH_TYPE CRASH_SEASON DAY_OF_WEEK  \n",
       "29087            NO INJURY / DRIVE AWAY       SUMMER      FRIDAY  \n",
       "29235  INJURY AND / OR TOW DUE TO CRASH       SUMMER      FRIDAY  \n",
       "29166  INJURY AND / OR TOW DUE TO CRASH       SUMMER      FRIDAY  \n",
       "29202            NO INJURY / DRIVE AWAY       SUMMER      FRIDAY  \n",
       "29152  INJURY AND / OR TOW DUE TO CRASH       SUMMER      FRIDAY  "
      ]
     },
     "execution_count": 70,
     "metadata": {},
     "output_type": "execute_result"
    }
   ],
   "source": [
    "df.head()"
   ]
  },
  {
   "cell_type": "code",
   "execution_count": 71,
   "metadata": {},
   "outputs": [
    {
     "name": "stdout",
     "output_type": "stream",
     "text": [
      "Train (36645, 8) (36645, 1)\n",
      "Test (9162, 8) (9162, 1)\n"
     ]
    }
   ],
   "source": [
    "X_train_clus, X_test_clus, y_train_clus, y_test_clus = train_test_split(df[['POSTED_SPEED_LIMIT', 'WEATHER_CONDITION',\n",
    "                                                                            'LIGHTING_CONDITION', 'FIRST_CRASH_TYPE', \n",
    "                                                                            'TRAFFICWAY_TYPE',\n",
    "        'ROADWAY_SURFACE_COND', 'PRIM_CONTRIBUTORY_CAUSE', 'SEC_CONTRIBUTORY_CAUSE']], df[['CRASH_TYPE']], \n",
    "                                                                        test_size=0.20, random_state=1)\n",
    "\n",
    "# X_train_clus, X_test_clus, y_train_clus, y_test_clus = train_test_split(df[[ 'WEATHER_CONDITION',\n",
    "#        'LIGHTING_CONDITION']], df[['CRASH_TYPE']], test_size=0.33, random_state=1)\n",
    "\n",
    "# summarize\n",
    "print('Train', X_train_clus.shape, y_train_clus.shape)\n",
    "print('Test', X_test_clus.shape, y_test_clus.shape)"
   ]
  },
  {
   "cell_type": "code",
   "execution_count": 72,
   "metadata": {},
   "outputs": [],
   "source": [
    "X_train_enc_1, X_test_enc_1 = prepare_inputs(X_train_clus[[ 'WEATHER_CONDITION',\n",
    "       'LIGHTING_CONDITION']],X_test_clus[[ 'WEATHER_CONDITION',\n",
    "       'LIGHTING_CONDITION']])"
   ]
  },
  {
   "cell_type": "code",
   "execution_count": 73,
   "metadata": {},
   "outputs": [
    {
     "name": "stderr",
     "output_type": "stream",
     "text": [
      "C:\\Users\\deb10\\Anaconda3\\lib\\site-packages\\sklearn\\preprocessing\\label.py:219: DataConversionWarning: A column-vector y was passed when a 1d array was expected. Please change the shape of y to (n_samples, ), for example using ravel().\n",
      "  y = column_or_1d(y, warn=True)\n",
      "C:\\Users\\deb10\\Anaconda3\\lib\\site-packages\\sklearn\\preprocessing\\label.py:252: DataConversionWarning: A column-vector y was passed when a 1d array was expected. Please change the shape of y to (n_samples, ), for example using ravel().\n",
      "  y = column_or_1d(y, warn=True)\n"
     ]
    }
   ],
   "source": [
    "y_train_enc_1, y_test_enc_1 = prepare_targets(y_train_clus, y_test_clus)"
   ]
  },
  {
   "cell_type": "code",
   "execution_count": 87,
   "metadata": {},
   "outputs": [
    {
     "name": "stdout",
     "output_type": "stream",
     "text": [
      "[0.02122311170156462, 0.8153870028064796]\n"
     ]
    },
    {
     "data": {
      "image/png": "[encoded data removed]",
      "text/plain": [
       "<Figure size 432x288 with 2 Axes>"
      ]
     },
     "metadata": {
      "needs_background": "light"
     },
     "output_type": "display_data"
    }
   ],
   "source": [
    "# CLUSTERING: KMEANS\n",
    "\n",
    "# Combination of predictors\n",
    "\n",
    "clustering = KMeans(n_clusters = 2, init = 'k-means++', n_init = 10, random_state=1).fit(X_train_enc_1)\n",
    "clusters = clustering.labels_\n",
    "\n",
    "cont_matrix = metrics.cluster.contingency_matrix(y_train_enc_1,clusters)\n",
    "sns.heatmap(cont_matrix, annot = True, fmt = \".3f\", square = True, cmap = plt.cm.Blues)\n",
    "plt.ylabel('Actual')\n",
    "plt.xlabel('Predicted')\n",
    "plt.title('Contingency matrix')\n",
    "plt.tight_layout()\n",
    "\n",
    "adjusted_rand_index = metrics.adjusted_rand_score(y_train_enc_1, clusters)\n",
    "silhouette_coefficient = metrics.silhouette_score(X_train_enc_1, clusters, metric = \"euclidean\")\n",
    "print([adjusted_rand_index, silhouette_coefficient])\n"
   ]
  },
  {
   "cell_type": "code",
   "execution_count": 88,
   "metadata": {},
   "outputs": [
    {
     "name": "stdout",
     "output_type": "stream",
     "text": [
      "[0.02122311170156462, 0.8153870028064796]\n"
     ]
    },
    {
     "data": {
      "image/png": "[encoded data removed]",
      "text/plain": [
       "<Figure size 432x288 with 2 Axes>"
      ]
     },
     "metadata": {
      "needs_background": "light"
     },
     "output_type": "display_data"
    }
   ],
   "source": [
    "# CLUSTERING: KMEANS\n",
    "\n",
    "# Combination of predictors\n",
    "\n",
    "clustering = KMeans(n_clusters = 2, init = 'k-means++', n_init = 20, random_state=1).fit(X_train_enc_1)\n",
    "clusters = clustering.labels_\n",
    "\n",
    "cont_matrix = metrics.cluster.contingency_matrix(y_train_enc_1,clusters)\n",
    "sns.heatmap(cont_matrix, annot = True, fmt = \".3f\", square = True, cmap = plt.cm.Blues)\n",
    "plt.ylabel('Actual')\n",
    "plt.xlabel('Predicted')\n",
    "plt.title('Contingency matrix')\n",
    "plt.tight_layout()\n",
    "\n",
    "adjusted_rand_index = metrics.adjusted_rand_score(y_train_enc_1, clusters)\n",
    "silhouette_coefficient = metrics.silhouette_score(X_train_enc_1, clusters, metric = \"euclidean\")\n",
    "print([adjusted_rand_index, silhouette_coefficient])\n"
   ]
  },
  {
   "cell_type": "code",
   "execution_count": 89,
   "metadata": {},
   "outputs": [
    {
     "name": "stdout",
     "output_type": "stream",
     "text": [
      "[0.02122311170156462, 0.8153870028064796]\n"
     ]
    },
    {
     "data": {
      "image/png": "[encoded data removed]",
      "text/plain": [
       "<Figure size 432x288 with 2 Axes>"
      ]
     },
     "metadata": {
      "needs_background": "light"
     },
     "output_type": "display_data"
    }
   ],
   "source": [
    "# CLUSTERING: KMEANS\n",
    "# changinf random state is not affecting\n",
    "# Combination of predictors\n",
    "\n",
    "clustering = KMeans(n_clusters = 2, init = 'k-means++', n_init = 20, random_state=5).fit(X_train_enc_1)\n",
    "clusters = clustering.labels_\n",
    "\n",
    "cont_matrix = metrics.cluster.contingency_matrix(y_train_enc_1,clusters)\n",
    "sns.heatmap(cont_matrix, annot = True, fmt = \".3f\", square = True, cmap = plt.cm.Blues)\n",
    "plt.ylabel('Actual')\n",
    "plt.xlabel('Predicted')\n",
    "plt.title('Contingency matrix')\n",
    "plt.tight_layout()\n",
    "\n",
    "adjusted_rand_index = metrics.adjusted_rand_score(y_train_enc_1, clusters)\n",
    "silhouette_coefficient = metrics.silhouette_score(X_train_enc_1, clusters, metric = \"euclidean\")\n",
    "print([adjusted_rand_index, silhouette_coefficient])\n"
   ]
  },
  {
   "cell_type": "code",
   "execution_count": 90,
   "metadata": {},
   "outputs": [],
   "source": [
    "X_train_enc_2, X_test_enc_2 = prepare_inputs(X_train_clus[[ 'WEATHER_CONDITION',\n",
    "       'LIGHTING_CONDITION', 'PRIM_CONTRIBUTORY_CAUSE']],X_test_clus[[ 'WEATHER_CONDITION',\n",
    "       'LIGHTING_CONDITION', 'PRIM_CONTRIBUTORY_CAUSE']])"
   ]
  },
  {
   "cell_type": "code",
   "execution_count": 91,
   "metadata": {},
   "outputs": [
    {
     "name": "stdout",
     "output_type": "stream",
     "text": [
      "[-0.005283281384543921, 0.7181499060905321]\n"
     ]
    },
    {
     "data": {
      "image/png": "[encoded data removed]",
      "text/plain": [
       "<Figure size 432x288 with 2 Axes>"
      ]
     },
     "metadata": {
      "needs_background": "light"
     },
     "output_type": "display_data"
    }
   ],
   "source": [
    "# CLUSTERING: KMEANS\n",
    "\n",
    "# Combination of predictors\n",
    "\n",
    "clustering = KMeans(n_clusters = 2, init = 'k-means++', n_init = 10, random_state=1).fit(X_train_enc_2)\n",
    "clusters = clustering.labels_\n",
    "\n",
    "cont_matrix = metrics.cluster.contingency_matrix(y_train_enc_1,clusters)\n",
    "sns.heatmap(cont_matrix, annot = True, fmt = \".3f\", square = True, cmap = plt.cm.Blues)\n",
    "plt.ylabel('Actual')\n",
    "plt.xlabel('Predicted')\n",
    "plt.title('Contingency matrix')\n",
    "plt.tight_layout()\n",
    "\n",
    "adjusted_rand_index = metrics.adjusted_rand_score(y_train_enc_1, clusters)\n",
    "silhouette_coefficient = metrics.silhouette_score(X_train_enc_2, clusters, metric = \"euclidean\")\n",
    "print([adjusted_rand_index, silhouette_coefficient])\n",
    "\n"
   ]
  },
  {
   "cell_type": "code",
   "execution_count": 100,
   "metadata": {},
   "outputs": [],
   "source": [
    "X_train_enc_4, X_test_enc_4 = prepare_inputs(X_train_clus[[ 'WEATHER_CONDITION',\n",
    "       'LIGHTING_CONDITION', 'PRIM_CONTRIBUTORY_CAUSE']],X_test_clus[[ 'WEATHER_CONDITION',\n",
    "       'LIGHTING_CONDITION', 'PRIM_CONTRIBUTORY_CAUSE']])"
   ]
  },
  {
   "cell_type": "code",
   "execution_count": 101,
   "metadata": {},
   "outputs": [
    {
     "data": {
      "text/plain": [
       "(36645, 3)"
      ]
     },
     "execution_count": 101,
     "metadata": {},
     "output_type": "execute_result"
    }
   ],
   "source": [
    "X_train_enc_4.shape"
   ]
  },
  {
   "cell_type": "code",
   "execution_count": 108,
   "metadata": {},
   "outputs": [
    {
     "data": {
      "text/plain": [
       "(36645, 4)"
      ]
     },
     "execution_count": 108,
     "metadata": {},
     "output_type": "execute_result"
    }
   ],
   "source": [
    "X_train_enc_5 = np.concatenate((X_train_enc_4,X_train_clus[['POSTED_SPEED_LIMIT']]),axis = 1)\n",
    "X_train_enc_5.shape"
   ]
  },
  {
   "cell_type": "code",
   "execution_count": 110,
   "metadata": {},
   "outputs": [],
   "source": [
    "X_train_enc_6, X_test_enc_6 = prepare_inputs(X_train_clus[[ 'WEATHER_CONDITION',\n",
    "       'LIGHTING_CONDITION']],X_test_clus[[ 'WEATHER_CONDITION',\n",
    "       'LIGHTING_CONDITION']])\n",
    "X_train_enc_6 = np.concatenate((X_train_enc_6,X_train_clus[['POSTED_SPEED_LIMIT']]),axis = 1)"
   ]
  },
  {
   "cell_type": "code",
   "execution_count": null,
   "metadata": {},
   "outputs": [],
   "source": []
  },
  {
   "cell_type": "code",
   "execution_count": 92,
   "metadata": {},
   "outputs": [
    {
     "name": "stdout",
     "output_type": "stream",
     "text": [
      "[-0.005283281384543921, 0.5488528497243605]\n"
     ]
    },
    {
     "data": {
      "image/png": "[encoded data removed]",
      "text/plain": [
       "<Figure size 432x288 with 2 Axes>"
      ]
     },
     "metadata": {
      "needs_background": "light"
     },
     "output_type": "display_data"
    }
   ],
   "source": [
    "X_train_enc_3, X_test_enc_3 = prepare_inputs(X_train_clus[[ 'WEATHER_CONDITION',\n",
    "       'LIGHTING_CONDITION', 'PRIM_CONTRIBUTORY_CAUSE', 'FIRST_CRASH_TYPE']],X_test_clus[[ 'WEATHER_CONDITION',\n",
    "       'LIGHTING_CONDITION', 'PRIM_CONTRIBUTORY_CAUSE','FIRST_CRASH_TYPE']])\n",
    "\n",
    "clustering = KMeans(n_clusters = 2, init = 'k-means++', n_init = 10, random_state=2).fit(X_train_enc_3)\n",
    "clusters = clustering.labels_\n",
    "\n",
    "cont_matrix = metrics.cluster.contingency_matrix(y_train_enc_1,clusters)\n",
    "sns.heatmap(cont_matrix, annot = True, fmt = \".3f\", square = True, cmap = plt.cm.Blues)\n",
    "plt.ylabel('Actual')\n",
    "plt.xlabel('Predicted')\n",
    "plt.title('Contingency matrix')\n",
    "plt.tight_layout()\n",
    "\n",
    "adjusted_rand_index = metrics.adjusted_rand_score(y_train_enc_1, clusters)\n",
    "silhouette_coefficient = metrics.silhouette_score(X_train_enc_3, clusters, metric = \"euclidean\")\n",
    "print([adjusted_rand_index, silhouette_coefficient])\n",
    "# print([adjusted_rand_index])"
   ]
  },
  {
   "cell_type": "code",
   "execution_count": 109,
   "metadata": {},
   "outputs": [
    {
     "name": "stdout",
     "output_type": "stream",
     "text": [
      "[-0.005268566355587542, 0.577802542953598]\n"
     ]
    },
    {
     "data": {
      "image/png": "[encoded data removed]",
      "text/plain": [
       "<Figure size 432x288 with 2 Axes>"
      ]
     },
     "metadata": {
      "needs_background": "light"
     },
     "output_type": "display_data"
    }
   ],
   "source": [
    "clustering = KMeans(n_clusters = 2, init = 'k-means++', n_init = 10, random_state=2).fit(X_train_enc_5)\n",
    "clusters = clustering.labels_\n",
    "\n",
    "cont_matrix = metrics.cluster.contingency_matrix(y_train_enc_1,clusters)\n",
    "sns.heatmap(cont_matrix, annot = True, fmt = \".3f\", square = True, cmap = plt.cm.Blues)\n",
    "plt.ylabel('Actual')\n",
    "plt.xlabel('Predicted')\n",
    "plt.title('Contingency matrix')\n",
    "plt.tight_layout()\n",
    "\n",
    "adjusted_rand_index = metrics.adjusted_rand_score(y_train_enc_1, clusters)\n",
    "silhouette_coefficient = metrics.silhouette_score(X_train_enc_5, clusters, metric = \"euclidean\")\n",
    "print([adjusted_rand_index, silhouette_coefficient])\n",
    "# print([adjusted_rand_index])"
   ]
  },
  {
   "cell_type": "code",
   "execution_count": 111,
   "metadata": {},
   "outputs": [
    {
     "name": "stdout",
     "output_type": "stream",
     "text": [
      "[-0.03937346793950812, 0.7614401566508888]\n"
     ]
    },
    {
     "data": {
      "image/png": "[encoded data removed]",
      "text/plain": [
       "<Figure size 432x288 with 2 Axes>"
      ]
     },
     "metadata": {
      "needs_background": "light"
     },
     "output_type": "display_data"
    }
   ],
   "source": [
    "clustering = KMeans(n_clusters = 2, init = 'k-means++', n_init = 10, random_state=2).fit(X_train_enc_6)\n",
    "clusters = clustering.labels_\n",
    "\n",
    "cont_matrix = metrics.cluster.contingency_matrix(y_train_enc_1,clusters)\n",
    "sns.heatmap(cont_matrix, annot = True, fmt = \".3f\", square = True, cmap = plt.cm.Blues)\n",
    "plt.ylabel('Actual')\n",
    "plt.xlabel('Predicted')\n",
    "plt.title('Contingency matrix')\n",
    "plt.tight_layout()\n",
    "\n",
    "adjusted_rand_index = metrics.adjusted_rand_score(y_train_enc_1, clusters)\n",
    "silhouette_coefficient = metrics.silhouette_score(X_train_enc_6, clusters, metric = \"euclidean\")\n",
    "print([adjusted_rand_index, silhouette_coefficient])\n",
    "# print([adjusted_rand_index])"
   ]
  },
  {
   "cell_type": "code",
   "execution_count": 98,
   "metadata": {},
   "outputs": [
    {
     "name": "stdout",
     "output_type": "stream",
     "text": [
      "[0 0 0 ... 0 0 0]\n"
     ]
    }
   ],
   "source": [
    "# CLUSTERING: DBSCAN\n",
    "\n",
    "# Combination of predictors\n",
    "\n",
    "clustering = DBSCAN(eps = 5, min_samples = 20, metric = \"euclidean\").fit(X_train_enc_3)\n",
    "clusters = clustering.labels_\n",
    "print(clusters)\n",
    "# cont_matrix = metrics.cluster.contingency_matrix(y_train_enc_1,clusters)\n",
    "# sns.heatmap(cont_matrix, annot = True, fmt = \".3f\", square = True, cmap = plt.cm.Blues)\n",
    "# plt.ylabel('Actual')\n",
    "# plt.xlabel('Predicted')\n",
    "# plt.title('Contingency matrix')\n",
    "# plt.tight_layout()\n",
    "\n",
    "# adjusted_rand_index = metrics.adjusted_rand_score(y_train_enc_1, clusters)\n",
    "# silhouette_coefficient = metrics.silhouette_score(X_train_enc_3, clusters, metric = \"euclidean\")\n",
    "# print([adjusted_rand_index, silhouette_coefficient])\n"
   ]
  },
  {
   "cell_type": "code",
   "execution_count": 119,
   "metadata": {},
   "outputs": [
    {
     "name": "stdout",
     "output_type": "stream",
     "text": [
      "[0 0 0 ... 0 0 0]\n"
     ]
    },
    {
     "ename": "ValueError",
     "evalue": "Number of labels is 1. Valid values are 2 to n_samples - 1 (inclusive)",
     "output_type": "error",
     "traceback": [
      "\u001b[1;31m---------------------------------------------------------------------------\u001b[0m",
      "\u001b[1;31mValueError\u001b[0m                                Traceback (most recent call last)",
      "\u001b[1;32m<ipython-input-119-e27806d4fd5c>\u001b[0m in \u001b[0;36m<module>\u001b[1;34m\u001b[0m\n\u001b[0;32m     14\u001b[0m \u001b[1;33m\u001b[0m\u001b[0m\n\u001b[0;32m     15\u001b[0m \u001b[0madjusted_rand_index\u001b[0m \u001b[1;33m=\u001b[0m \u001b[0mmetrics\u001b[0m\u001b[1;33m.\u001b[0m\u001b[0madjusted_rand_score\u001b[0m\u001b[1;33m(\u001b[0m\u001b[0my_train_enc_1\u001b[0m\u001b[1;33m,\u001b[0m \u001b[0mclusters\u001b[0m\u001b[1;33m)\u001b[0m\u001b[1;33m\u001b[0m\u001b[1;33m\u001b[0m\u001b[0m\n\u001b[1;32m---> 16\u001b[1;33m \u001b[0msilhouette_coefficient\u001b[0m \u001b[1;33m=\u001b[0m \u001b[0mmetrics\u001b[0m\u001b[1;33m.\u001b[0m\u001b[0msilhouette_score\u001b[0m\u001b[1;33m(\u001b[0m\u001b[0mX_train_enc_2\u001b[0m\u001b[1;33m,\u001b[0m \u001b[0mclusters\u001b[0m\u001b[1;33m,\u001b[0m \u001b[0mmetric\u001b[0m \u001b[1;33m=\u001b[0m \u001b[1;34m\"euclidean\"\u001b[0m\u001b[1;33m)\u001b[0m\u001b[1;33m\u001b[0m\u001b[1;33m\u001b[0m\u001b[0m\n\u001b[0m\u001b[0;32m     17\u001b[0m \u001b[0mprint\u001b[0m\u001b[1;33m(\u001b[0m\u001b[1;33m[\u001b[0m\u001b[0madjusted_rand_index\u001b[0m\u001b[1;33m,\u001b[0m \u001b[0msilhouette_coefficient\u001b[0m\u001b[1;33m]\u001b[0m\u001b[1;33m)\u001b[0m\u001b[1;33m\u001b[0m\u001b[1;33m\u001b[0m\u001b[0m\n",
      "\u001b[1;32m~\\Anaconda3\\lib\\site-packages\\sklearn\\metrics\\cluster\\unsupervised.py\u001b[0m in \u001b[0;36msilhouette_score\u001b[1;34m(X, labels, metric, sample_size, random_state, **kwds)\u001b[0m\n\u001b[0;32m    115\u001b[0m         \u001b[1;32melse\u001b[0m\u001b[1;33m:\u001b[0m\u001b[1;33m\u001b[0m\u001b[1;33m\u001b[0m\u001b[0m\n\u001b[0;32m    116\u001b[0m             \u001b[0mX\u001b[0m\u001b[1;33m,\u001b[0m \u001b[0mlabels\u001b[0m \u001b[1;33m=\u001b[0m \u001b[0mX\u001b[0m\u001b[1;33m[\u001b[0m\u001b[0mindices\u001b[0m\u001b[1;33m]\u001b[0m\u001b[1;33m,\u001b[0m \u001b[0mlabels\u001b[0m\u001b[1;33m[\u001b[0m\u001b[0mindices\u001b[0m\u001b[1;33m]\u001b[0m\u001b[1;33m\u001b[0m\u001b[1;33m\u001b[0m\u001b[0m\n\u001b[1;32m--> 117\u001b[1;33m     \u001b[1;32mreturn\u001b[0m \u001b[0mnp\u001b[0m\u001b[1;33m.\u001b[0m\u001b[0mmean\u001b[0m\u001b[1;33m(\u001b[0m\u001b[0msilhouette_samples\u001b[0m\u001b[1;33m(\u001b[0m\u001b[0mX\u001b[0m\u001b[1;33m,\u001b[0m \u001b[0mlabels\u001b[0m\u001b[1;33m,\u001b[0m \u001b[0mmetric\u001b[0m\u001b[1;33m=\u001b[0m\u001b[0mmetric\u001b[0m\u001b[1;33m,\u001b[0m \u001b[1;33m**\u001b[0m\u001b[0mkwds\u001b[0m\u001b[1;33m)\u001b[0m\u001b[1;33m)\u001b[0m\u001b[1;33m\u001b[0m\u001b[1;33m\u001b[0m\u001b[0m\n\u001b[0m\u001b[0;32m    118\u001b[0m \u001b[1;33m\u001b[0m\u001b[0m\n\u001b[0;32m    119\u001b[0m \u001b[1;33m\u001b[0m\u001b[0m\n",
      "\u001b[1;32m~\\Anaconda3\\lib\\site-packages\\sklearn\\metrics\\cluster\\unsupervised.py\u001b[0m in \u001b[0;36msilhouette_samples\u001b[1;34m(X, labels, metric, **kwds)\u001b[0m\n\u001b[0;32m    215\u001b[0m     \u001b[0mn_samples\u001b[0m \u001b[1;33m=\u001b[0m \u001b[0mlen\u001b[0m\u001b[1;33m(\u001b[0m\u001b[0mlabels\u001b[0m\u001b[1;33m)\u001b[0m\u001b[1;33m\u001b[0m\u001b[1;33m\u001b[0m\u001b[0m\n\u001b[0;32m    216\u001b[0m     \u001b[0mlabel_freqs\u001b[0m \u001b[1;33m=\u001b[0m \u001b[0mnp\u001b[0m\u001b[1;33m.\u001b[0m\u001b[0mbincount\u001b[0m\u001b[1;33m(\u001b[0m\u001b[0mlabels\u001b[0m\u001b[1;33m)\u001b[0m\u001b[1;33m\u001b[0m\u001b[1;33m\u001b[0m\u001b[0m\n\u001b[1;32m--> 217\u001b[1;33m     \u001b[0mcheck_number_of_labels\u001b[0m\u001b[1;33m(\u001b[0m\u001b[0mlen\u001b[0m\u001b[1;33m(\u001b[0m\u001b[0mle\u001b[0m\u001b[1;33m.\u001b[0m\u001b[0mclasses_\u001b[0m\u001b[1;33m)\u001b[0m\u001b[1;33m,\u001b[0m \u001b[0mn_samples\u001b[0m\u001b[1;33m)\u001b[0m\u001b[1;33m\u001b[0m\u001b[1;33m\u001b[0m\u001b[0m\n\u001b[0m\u001b[0;32m    218\u001b[0m \u001b[1;33m\u001b[0m\u001b[0m\n\u001b[0;32m    219\u001b[0m     \u001b[0mkwds\u001b[0m\u001b[1;33m[\u001b[0m\u001b[1;34m'metric'\u001b[0m\u001b[1;33m]\u001b[0m \u001b[1;33m=\u001b[0m \u001b[0mmetric\u001b[0m\u001b[1;33m\u001b[0m\u001b[1;33m\u001b[0m\u001b[0m\n",
      "\u001b[1;32m~\\Anaconda3\\lib\\site-packages\\sklearn\\metrics\\cluster\\unsupervised.py\u001b[0m in \u001b[0;36mcheck_number_of_labels\u001b[1;34m(n_labels, n_samples)\u001b[0m\n\u001b[0;32m     33\u001b[0m     \u001b[1;32mif\u001b[0m \u001b[1;32mnot\u001b[0m \u001b[1;36m1\u001b[0m \u001b[1;33m<\u001b[0m \u001b[0mn_labels\u001b[0m \u001b[1;33m<\u001b[0m \u001b[0mn_samples\u001b[0m\u001b[1;33m:\u001b[0m\u001b[1;33m\u001b[0m\u001b[1;33m\u001b[0m\u001b[0m\n\u001b[0;32m     34\u001b[0m         raise ValueError(\"Number of labels is %d. Valid values are 2 \"\n\u001b[1;32m---> 35\u001b[1;33m                          \"to n_samples - 1 (inclusive)\" % n_labels)\n\u001b[0m\u001b[0;32m     36\u001b[0m \u001b[1;33m\u001b[0m\u001b[0m\n\u001b[0;32m     37\u001b[0m \u001b[1;33m\u001b[0m\u001b[0m\n",
      "\u001b[1;31mValueError\u001b[0m: Number of labels is 1. Valid values are 2 to n_samples - 1 (inclusive)"
     ]
    },
    {
     "data": {
      "image/png": "[encoded data removed]",
      "text/plain": [
       "<Figure size 432x288 with 2 Axes>"
      ]
     },
     "metadata": {
      "needs_background": "light"
     },
     "output_type": "display_data"
    }
   ],
   "source": [
    "# CLUSTERING: DBSCAN\n",
    "\n",
    "# Combination of predictors\n",
    "\n",
    "clustering = DBSCAN(eps = 5, min_samples = 20, metric = \"euclidean\").fit(X_train_enc_2)\n",
    "clusters = clustering.labels_\n",
    "print(clusters)\n",
    "cont_matrix = metrics.cluster.contingency_matrix(y_train_enc_1,clusters)\n",
    "sns.heatmap(cont_matrix, annot = True, fmt = \".3f\", square = True, cmap = plt.cm.Blues)\n",
    "plt.ylabel('Actual')\n",
    "plt.xlabel('Predicted')\n",
    "plt.title('Contingency matrix')\n",
    "plt.tight_layout()\n",
    "\n",
    "adjusted_rand_index = metrics.adjusted_rand_score(y_train_enc_1, clusters)\n",
    "silhouette_coefficient = metrics.silhouette_score(X_train_enc_2, clusters, metric = \"euclidean\")\n",
    "print([adjusted_rand_index, silhouette_coefficient])\n"
   ]
  },
  {
   "cell_type": "code",
   "execution_count": null,
   "metadata": {},
   "outputs": [],
   "source": []
  }
 ],
 "metadata": {
  "kernelspec": {
   "display_name": "Python 3",
   "language": "python",
   "name": "python3"
  },
  "language_info": {
   "codemirror_mode": {
    "name": "ipython",
    "version": 3
   },
   "file_extension": ".py",
   "mimetype": "text/x-python",
   "name": "python",
   "nbconvert_exporter": "python",
   "pygments_lexer": "ipython3",
   "version": "3.7.3"
  }
 },
 "nbformat": 4,
 "nbformat_minor": 4
}
